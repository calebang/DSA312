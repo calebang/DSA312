{
 "cells": [
  {
   "cell_type": "markdown",
   "id": "67e96768-742a-41a8-a8fe-4fe2a469c2f5",
   "metadata": {},
   "source": [
    "<p style=\"text-align: center;\"><b>DSA312 Data Science with Python</b></p>\n",
    "<p style=\"text-align: center;\"><b>Author: Jing Rong GOH</b></p>\n",
    "<p style=\"text-align: center;\"><b>Assignment 1</b></p>\n",
    "<p style=\"text-align: center;\"><b>Note: This assignment has 10 questions (10 marks each)</b></p>\n",
    "<p style=\"text-align: center;\"><b>Note: Points may be deducted for overly verbose or inefficient code. Bonus credit will be awarded for concise and elegant solutions.</b></p>"
   ]
  },
  {
   "cell_type": "code",
   "execution_count": null,
   "id": "ab92ef0a-be60-4543-99dc-eb0bfc54e55e",
   "metadata": {},
   "outputs": [],
   "source": [
    "from IPython.core.interactiveshell import InteractiveShell\n",
    "InteractiveShell.ast_node_interactivity = \"all\""
   ]
  },
  {
   "cell_type": "markdown",
   "id": "2c750d17-2d5c-479a-8f5e-ca60af0eb785",
   "metadata": {
    "jp-MarkdownHeadingCollapsed": true
   },
   "source": [
    "### Q1. Use the diamonds dataset from Seaborn for this question\n",
    "##### Q1a. Load the diamonds dataset and calculate the correlation between `price` and `carat`. \n",
    "##### Q1b. Display a scatter plot to visualize the relationship between `price` and `carat`, with plot title `Price vs Carat of Diamonds`. Describe the plot.\n",
    "##### Q1c. Create a new column `price_per_carat` to calculate the price per carat for each diamond and display the first 10 rows. What is the `price_per_carat` for the 8th row?\n",
    "##### Q1d. Visualize the distribution of `price_per_carat` across different `clarity` using a violin plot, with plot title `Price per Carat Distribution by Clarity`. What does the plot tell you about relationship between `price_per_carat` and `clarity`?\n",
    "##### Q1e. Using plotly.express, create an interactive scatter plot of `price` vs. `carat`, colored by `clarity`, and add hover information to display `cut`. From your plot, what is the `price`, `carat`, `clarity`, and `cut` for the diamond with the 2nd largest `carat` value."
   ]
  },
  {
   "cell_type": "code",
   "execution_count": null,
   "id": "d70a443a-d3c3-4647-85b8-e4ecf0a8cfba",
   "metadata": {},
   "outputs": [],
   "source": [
    "# Q1 Load Libraries Here\n"
   ]
  },
  {
   "cell_type": "code",
   "execution_count": null,
   "id": "8f83593b-3103-4cb8-a633-46adc4e147dd",
   "metadata": {},
   "outputs": [],
   "source": [
    "# Q1a\n",
    "\n",
    "# Answer: "
   ]
  },
  {
   "cell_type": "code",
   "execution_count": null,
   "id": "4fa71b62-dda7-4977-bea2-7e4f51dc95cc",
   "metadata": {},
   "outputs": [],
   "source": [
    "# Q1b\n",
    "\n",
    "# Answer:"
   ]
  },
  {
   "cell_type": "code",
   "execution_count": null,
   "id": "99128e96-5266-4c5d-ae62-8e86882823e1",
   "metadata": {},
   "outputs": [],
   "source": [
    "# Q1c\n",
    "\n",
    "# Answer: "
   ]
  },
  {
   "cell_type": "code",
   "execution_count": null,
   "id": "bfa10c4c-5918-4b84-98c5-205296afd85b",
   "metadata": {},
   "outputs": [],
   "source": [
    "# Q1d\n",
    "\n",
    "# Answer:"
   ]
  },
  {
   "cell_type": "code",
   "execution_count": null,
   "id": "d2bf629d-e87d-4e36-9ff1-1b6ec01271cf",
   "metadata": {},
   "outputs": [],
   "source": [
    "# Q1e\n",
    "\n",
    "# Answer: "
   ]
  },
  {
   "attachments": {
    "23bdb2c6-dbc9-4726-9af4-a4ab7b2420db.PNG": {
     "image/png": "[encoded data removed]"
    }
   },
   "cell_type": "markdown",
   "id": "13e006a6",
   "metadata": {
    "jp-MarkdownHeadingCollapsed": true
   },
   "source": [
    "### Q2. Use the tips dataset from Seaborn for this question\n",
    "##### Q2a. Load the tips dataset and run a code that returns the following:\n",
    "![pic1.PNG](attachment:23bdb2c6-dbc9-4726-9af4-a4ab7b2420db.PNG)\n",
    "\n",
    "##### Q2b. Create a new feature `meal_time1` that categorizes tips into 'Morning' (when `time` is 'Lunch') or 'Evening' (when `time` is 'Dinner') using `numpy.where()`\n",
    "##### Q2c. Create a new feature `meal_time2` that categorizes tips into 'Morning' (when `time` is 'Lunch') or 'Evening' (when `time` is 'Dinner') using two `loc[]`\n",
    "##### Q2d. Between `numpy.where()` and `loc[]`, which approach is generally more efficient?\n",
    "##### Q2e. Create a new column `tip_percentage` to calculate the `tip` as a percentage of `total_bill`. Use a groupby() to group the data by `time` and `smoker` and calculate the average `tip_percentage` per group. Which group tipped the most / least?"
   ]
  },
  {
   "cell_type": "code",
   "execution_count": null,
   "id": "f05fcd3f",
   "metadata": {},
   "outputs": [],
   "source": [
    "# Q2 Load Libraries Here\n"
   ]
  },
  {
   "cell_type": "code",
   "execution_count": null,
   "id": "f26c3423-430f-4db8-85d0-8d2de09ae708",
   "metadata": {},
   "outputs": [],
   "source": [
    "# Q2a\n"
   ]
  },
  {
   "cell_type": "code",
   "execution_count": null,
   "id": "5a4d21f7-6441-4de5-a8ef-ebebee6d8ad9",
   "metadata": {},
   "outputs": [],
   "source": [
    "# Q2b\n"
   ]
  },
  {
   "cell_type": "code",
   "execution_count": null,
   "id": "cd10cf5c-e122-41b7-af9d-ea81932abce4",
   "metadata": {},
   "outputs": [],
   "source": [
    "# Q2c\n"
   ]
  },
  {
   "cell_type": "code",
   "execution_count": null,
   "id": "c4e5879e-ff4c-4d8c-8d69-2e7c81b81530",
   "metadata": {},
   "outputs": [],
   "source": [
    "# Q2d\n",
    "\n",
    "# Answer: "
   ]
  },
  {
   "cell_type": "code",
   "execution_count": null,
   "id": "a1d580f1-17fb-48c5-9a7f-fc5985599c2c",
   "metadata": {},
   "outputs": [],
   "source": [
    "# Q2e.\n",
    "\n",
    "# Answer: "
   ]
  },
  {
   "cell_type": "markdown",
   "id": "c50ce4a8",
   "metadata": {
    "jp-MarkdownHeadingCollapsed": true
   },
   "source": [
    "### Q3. Use the penguins dataset from Seaborn for this question\n",
    "##### Q3a. Load the penguins dataset and generate a default profile report using `ydata_profiling`. Use this profile report to answer the remaining questions.\n",
    "##### Q3b. Check the distribution of `body_mass_g`. Is it normally distributed or skewed? If skewed, is it left-skewed or right-skewed?\n",
    "##### Q3c. Which two variables exhibit the strongest negative correlation, and what is the value of this correlation? Which section of the profile report did you retrieve this information?\n",
    "##### Q3d. What is the interquartile range for `bill_depth_mm`?\n",
    "##### Q3e. Are there any other variable(s) that will always be missing when `bill_lenght_mm` is missing? If yes, which variable(s)? Explain how you arrived at your answer."
   ]
  },
  {
   "cell_type": "code",
   "execution_count": null,
   "id": "57f57f65-b41f-45fc-a2f7-d711472c2cd6",
   "metadata": {},
   "outputs": [],
   "source": [
    "# Q3 Load Libraries Here\n"
   ]
  },
  {
   "cell_type": "code",
   "execution_count": null,
   "id": "6284def7-3948-47fd-8b06-e1543ce0fe8d",
   "metadata": {},
   "outputs": [],
   "source": [
    "# Q3a.\n"
   ]
  },
  {
   "cell_type": "code",
   "execution_count": null,
   "id": "4e0ed463-bfa4-4d09-8389-84eb5d21f63e",
   "metadata": {},
   "outputs": [],
   "source": [
    "# Q3b.\n",
    "\n",
    "# Answer:"
   ]
  },
  {
   "cell_type": "code",
   "execution_count": null,
   "id": "a0d7be74-a493-480c-9bc8-92ced732ce02",
   "metadata": {},
   "outputs": [],
   "source": [
    "# Q3c.\n",
    "\n",
    "# Answer:"
   ]
  },
  {
   "cell_type": "code",
   "execution_count": null,
   "id": "10cbc40f-4bcf-4026-8d67-689a02359889",
   "metadata": {},
   "outputs": [],
   "source": [
    "# Q3d.\n",
    "\n",
    "# Answer: "
   ]
  },
  {
   "cell_type": "code",
   "execution_count": null,
   "id": "cafaed40-97ad-46a8-afc1-4d05aba75ba9",
   "metadata": {},
   "outputs": [],
   "source": [
    "# Q3e.\n",
    "\n",
    "# Answer: "
   ]
  },
  {
   "cell_type": "markdown",
   "id": "dee4534d-9e9c-45de-a2f7-feaaaa51d0bc",
   "metadata": {
    "jp-MarkdownHeadingCollapsed": true
   },
   "source": [
    "### Q4. Only `numpy` library can be imported for this question\n",
    "##### Q4a. First, create a 1D NumPy array of integers from 1 to 100. Then, use the `reshape` method to reshape this array into a 10x10 matrix. Finally, assign the transpose of this matrix to object `transpose_matrix` and display it.\n",
    "##### Q4b. Replace all even numbers in `transpose_matrix` with 0, and display the updated `transpose_matrix`.\n",
    "##### Q4c. Extract and display the subarray from the 2nd to 4th row and 3rd to 5th column of the `transpose_matrix`. What is the number at the center of this subarray?\n",
    "##### Q4d. Create a second matrix of the same shape (i.e. 10x10) filled with random integers between 1 and 100, and assign this matrix to object `matrix2`. Using an appropriate function in numpy, set the seed value to 88 for this question to ensure reproducibility of solution. Display `matrix2`.\n",
    "##### Q4e. Perform all these calculations in a single line of code: Compute the dot product of `matrix2` and `transpose_matrix` (i.e. `matrix2 ⋅ transpose_matrix`). After obtaining the dot product, calculate the mean of all the values in the resulting matrix. What is the mean value obtained?"
   ]
  },
  {
   "cell_type": "code",
   "execution_count": null,
   "id": "6a3160cc-a70e-4065-a9bb-4e18a37375af",
   "metadata": {},
   "outputs": [],
   "source": [
    "# Q4 Load Libraries Here\n"
   ]
  },
  {
   "cell_type": "code",
   "execution_count": null,
   "id": "196d4d5b-076e-42b2-8253-c9f133a64836",
   "metadata": {},
   "outputs": [],
   "source": [
    "# Q4a.\n"
   ]
  },
  {
   "cell_type": "code",
   "execution_count": null,
   "id": "9e269395-2c0a-4b48-9bcb-ceff366ff8f3",
   "metadata": {},
   "outputs": [],
   "source": [
    "# Q4b.\n"
   ]
  },
  {
   "cell_type": "code",
   "execution_count": null,
   "id": "162101bb-160b-4b82-9c23-19a06288770b",
   "metadata": {},
   "outputs": [],
   "source": [
    "# Q4c.\n",
    "\n",
    "# Answer:"
   ]
  },
  {
   "cell_type": "code",
   "execution_count": null,
   "id": "538c5b7b-3392-421e-b11d-f62ef083baa6",
   "metadata": {},
   "outputs": [],
   "source": [
    "# Q4d.\n"
   ]
  },
  {
   "cell_type": "code",
   "execution_count": null,
   "id": "cfa5c9e4-0848-4908-b51d-12ded8efbde7",
   "metadata": {},
   "outputs": [],
   "source": [
    "# Q4e.\n",
    "\n",
    "# Answer: "
   ]
  },
  {
   "attachments": {
    "38062533-5ff7-4af9-9dd3-777663ed91a4.PNG": {
     "image/png": "[encoded data removed]"
    }
   },
   "cell_type": "markdown",
   "id": "38304a50-0122-4e8f-9413-681c59604802",
   "metadata": {
    "jp-MarkdownHeadingCollapsed": true
   },
   "source": [
    "### Q5. Use the tips dataset from Seaborn for this question\n",
    "##### Q5a. Load the tips dataset into a pandas DataFrame. Filter the DataFrame to include only rows where the `total_bill` is greater than 20. How many rows meet this condition?\n",
    "##### Q5b. Create a pivot table that shows the sum of `total_bill` for each `day` and `time`. From the pivot table, what is the sum of `total_bill` for `Dinner` on `Sat`?\n",
    "##### Q5c. Use the `melt()` function to reshape the DataFrame to long format, such that it returns the following:\n",
    "![pic2.PNG](attachment:38062533-5ff7-4af9-9dd3-777663ed91a4.PNG)\n",
    "##### Q5d. Sort the DataFrame by `total_bill` in descending order and display the top 10 rows. What is the `total_bill` for the top row and what does it mean?\n",
    "##### Q5e. What are the sample standard_deviation and population standard_deviation of `total_bill`? "
   ]
  },
  {
   "cell_type": "code",
   "execution_count": null,
   "id": "c58c8090-7f3b-4f7a-93ca-f04dbbe11984",
   "metadata": {},
   "outputs": [],
   "source": [
    "# Q5 Load Libraries Here\n"
   ]
  },
  {
   "cell_type": "code",
   "execution_count": null,
   "id": "de340822-323a-4d64-95fe-aed810e3d184",
   "metadata": {},
   "outputs": [],
   "source": [
    "# Q5a.\n",
    "\n",
    "# Answer: "
   ]
  },
  {
   "cell_type": "code",
   "execution_count": null,
   "id": "4e829da0-ea80-4afd-83c2-386e31300393",
   "metadata": {},
   "outputs": [],
   "source": [
    "# Q5b.\n",
    "\n",
    "# Answer:"
   ]
  },
  {
   "cell_type": "code",
   "execution_count": null,
   "id": "4f0bcc05-b137-4d43-a5f8-78aabd17dd48",
   "metadata": {},
   "outputs": [],
   "source": [
    "# Q5c.\n"
   ]
  },
  {
   "cell_type": "code",
   "execution_count": null,
   "id": "2832e816-a777-4aae-abb4-b4024c0016b1",
   "metadata": {},
   "outputs": [],
   "source": [
    "# Q5d.\n",
    "\n",
    "# Answer: "
   ]
  },
  {
   "cell_type": "code",
   "execution_count": null,
   "id": "95b3fb44-ea52-43eb-ba42-86665581ee2a",
   "metadata": {},
   "outputs": [],
   "source": [
    "# Q5e.\n",
    "\n",
    "# Answer: "
   ]
  },
  {
   "cell_type": "markdown",
   "id": "ec362d7e-bb14-4d52-93a7-95197232e765",
   "metadata": {
    "jp-MarkdownHeadingCollapsed": true
   },
   "source": [
    "### Q6. Use the titanic dataset from Seaborn for this question\n",
    "##### Q6a. Load the titanic dataset into a pandas DataFrame. Split the titanic dataset into two separate DataFrames: `df1` containing columns [`pclass`, `sex`, `age`, `fare`] and `df2` containing columns [`sex`, `embarked`, `class`, `deck`]. Perform an inner merge on the `sex` column to merge `df1` and `df2`, and assign the merged result to `merged_df`. How many rows does `merged_df` contain?\n",
    "##### Q6b. In a single line of code, utilize two different pandas methods to determine the number of missing values in each column of `merged_df`. Identify the column with the most missing values in `merged_df` and state how many missing values it contains.\n",
    "##### Q6c. Replace the missing values in the column identified in `Q6b` with the column's most frequent value (mode), and display the resulting DataFrame. What is the column's most frequent value (mode)?\n",
    "##### Q6d. Filter `merged_df` to display rows where `age` is greater than 30 and `fare` is above 50. How many rows meet these conditions?\n",
    "##### Q6e. Group `merged_df` by `pclass` and calculate the mean and median of `fare` for each class. Display the results. Based on the output, identify the largest mean value and the smallest median value."
   ]
  },
  {
   "cell_type": "code",
   "execution_count": null,
   "id": "eca535a5-9f0b-4eb8-84c4-dd4ede8d9b0d",
   "metadata": {},
   "outputs": [],
   "source": [
    "# Q6 Load Libraries Here\n"
   ]
  },
  {
   "cell_type": "code",
   "execution_count": null,
   "id": "0a0c65d4-fb12-4e3a-a871-f07a754038a5",
   "metadata": {},
   "outputs": [],
   "source": [
    "# Q6a.\n",
    "\n",
    "# Answer: "
   ]
  },
  {
   "cell_type": "code",
   "execution_count": null,
   "id": "ba7d3ffb-a51c-48ad-9f6e-cfad62fc46d1",
   "metadata": {},
   "outputs": [],
   "source": [
    "# Q6b.\n",
    "\n",
    "# Answer:"
   ]
  },
  {
   "cell_type": "code",
   "execution_count": null,
   "id": "345d6588-5d58-47b2-97aa-1f17a2f2b3c1",
   "metadata": {},
   "outputs": [],
   "source": [
    "# Q6c.\n",
    "\n",
    "# Answer: "
   ]
  },
  {
   "cell_type": "code",
   "execution_count": null,
   "id": "2fbddc29-c40d-40fb-95a5-07c0f728a556",
   "metadata": {},
   "outputs": [],
   "source": [
    "# Q6d.\n",
    "\n",
    "# Answer: "
   ]
  },
  {
   "cell_type": "code",
   "execution_count": null,
   "id": "3756ddb5-18e3-4d7f-8a45-b80882888ed8",
   "metadata": {},
   "outputs": [],
   "source": [
    "# Q6e.\n",
    "\n",
    "# Answer: "
   ]
  },
  {
   "cell_type": "markdown",
   "id": "d92a8042-2dc6-4d40-ac9b-f3b25dcdfe50",
   "metadata": {
    "jp-MarkdownHeadingCollapsed": true
   },
   "source": [
    "### Q7. Use the titanic dataset from Seaborn for this question\n",
    "##### Q7a. Load the titanic dataset into a pandas DataFrame. Create a Python function `column_sum(df, column_name)` that accepts a DataFrame and a column name as arguments and returns the sum of all values in the specified column. Use this function on the titanic DataFrame to calculate the sum of the `fare` column. What is the resulting value, and what does this value represent?\n",
    "##### Q7b. Define a Python function `categorize_age(age)` that accepts an age as input and returns a string: `Child` if the age is less than 18, `Adult` if the age is between 18 (inclusive) and 60 (exclusive), and `Senior` if the age is 60 or older. Apply this function to a test input value of 88. What is the output of the function? \n",
    "##### Q7c. Create a Python function `count_by_class_and_survived(df, pclass, survived)` that takes a DataFrame, a passenger class (`pclass`), and a survival status (`survived`) as inputs, and returns the count of passengers matching these criteria using control flow statements (`for` loops and `if` statements). (Hint: Utilize the `iterrows()` method in pandas to make your code concise). Apply this function to the titanic DataFrame to determine the total number of survivors in passenger class 2."
   ]
  },
  {
   "cell_type": "code",
   "execution_count": null,
   "id": "6f2be080-3394-4dda-b97c-838cb5e74004",
   "metadata": {},
   "outputs": [],
   "source": [
    "# Q7 Load Libraries Here\n"
   ]
  },
  {
   "cell_type": "code",
   "execution_count": null,
   "id": "19e27f7e-b4eb-4b84-8e9d-b654ee178f1c",
   "metadata": {},
   "outputs": [],
   "source": [
    "# Q7a.\n",
    "\n",
    "# Answer: "
   ]
  },
  {
   "cell_type": "code",
   "execution_count": null,
   "id": "f594b174-1f4d-4331-b717-e6d58744409b",
   "metadata": {},
   "outputs": [],
   "source": [
    "# Q7b.\n",
    "\n",
    "# Answer: "
   ]
  },
  {
   "cell_type": "code",
   "execution_count": null,
   "id": "060cfd87-72d1-4154-8257-58ab6be007f2",
   "metadata": {},
   "outputs": [],
   "source": [
    "# Q7c.\n",
    "\n",
    "# Answer: "
   ]
  },
  {
   "cell_type": "markdown",
   "id": "6c5a25b9-be61-4592-80f1-04416211159e",
   "metadata": {
    "jp-MarkdownHeadingCollapsed": true
   },
   "source": [
    "### Q8. Use the flights dataset from Seaborn for this question\n",
    "##### Q8a. Load the flights dataset into a pandas DataFrame. In a single line of code, calculate the total number of passengers for each year and assign the result to a variable named `yearly_passengers`. Display the results. How many passengers were there in the year with the fewest total passengers?\n",
    "##### Q8b. Create a line plot, with a figure size of (10, 6), showing the total number of passengers for each year. Set the line style to be dashed (--), set the line color to red, set the line width to 2, and use circle markers (o) for the data points.\n",
    "##### Q8c. Building on your code from Q8b., add a legend to the plot with the label `Total Passengers`. Additionally, include a suitable title and labels for both the x-axis and y-axis.\n",
    "##### Q8d. Building on your code from Q8c., add annotations to highlight the years with the highest and lowest total passengers on the plot. Use text (`Highest Point`, `Lowest Point`) and blue arrows to point to these data points. (Hint: Utilize the `idxmax()` and `idxmin()` methods in pandas to make your code concise).\n",
    "##### Q8e. Building on your code from Q8d., enable grid lines on the plot and customize their color to light pink with a dashed (--) style. Change the background color of the plot to `#FFFFE0` (i.e. a light yellow). What observations can you make about the trend depicted in the plot?"
   ]
  },
  {
   "cell_type": "code",
   "execution_count": null,
   "id": "04246f9c-8a5a-435d-9949-10542c22c10f",
   "metadata": {},
   "outputs": [],
   "source": [
    "# Q8 Load Libraries Here\n"
   ]
  },
  {
   "cell_type": "code",
   "execution_count": null,
   "id": "91321b26-01f3-485d-9c2a-224ff43cba37",
   "metadata": {},
   "outputs": [],
   "source": [
    "# Q8a.\n",
    "\n",
    "# Answer: "
   ]
  },
  {
   "cell_type": "code",
   "execution_count": null,
   "id": "c27a99c4-a4c7-47ef-909d-e12be211c939",
   "metadata": {},
   "outputs": [],
   "source": [
    "# Q8b.\n"
   ]
  },
  {
   "cell_type": "code",
   "execution_count": null,
   "id": "30ab13f0-a23e-4289-bff6-eb473db0e6c7",
   "metadata": {},
   "outputs": [],
   "source": [
    "# Q8c.\n"
   ]
  },
  {
   "cell_type": "code",
   "execution_count": null,
   "id": "fa36c64b-6f0c-45ef-9ddf-8197b1b32180",
   "metadata": {},
   "outputs": [],
   "source": [
    "# Q8d.\n"
   ]
  },
  {
   "cell_type": "code",
   "execution_count": null,
   "id": "bb8c2a99-ce1f-4dfd-b1d4-0fb38d1821e3",
   "metadata": {},
   "outputs": [],
   "source": [
    "# Q8e.\n",
    "\n",
    "# Answer: "
   ]
  },
  {
   "attachments": {
    "7b3cbfcf-ab20-4564-920a-fcc7149b3350.png": {
     "image/png": "[encoded data removed]"
    },
    "fc164779-af11-470c-a651-a001d455a1a9.PNG": {
     "image/png": "[encoded data removed]"
    }
   },
   "cell_type": "markdown",
   "id": "ade78e5a-9ff2-404d-843b-b074732ef204",
   "metadata": {
    "jp-MarkdownHeadingCollapsed": true
   },
   "source": [
    "### Q9. Use the titanic dataset from Seaborn for this question.\n",
    "##### Q9a. Load the titanic dataset into a pandas DataFrame. Create a FacetGrid to visualize the `age` distribution across different passenger classes (`pclass`) and survival status (`survived`). Use `sns.histplot` to plot histograms on the FacetGrid, setting the `binwidth` to 5 for a clearer view of the distribution. Set the plot color to black. Apply additional customizations to achieve the desired appearance below:\n",
    "![image.png](attachment:7b3cbfcf-ab20-4564-920a-fcc7149b3350.png) \n",
    "##### Q9b. What are some observations that you can make from the plot in Q9a?\n",
    "##### Q9c. Load the titanic dataset into a pandas DataFrame. Create an enhanced violin plot to visualize the distribution of passenger `age` across different passenger classes (`pclass`) and survival statuses (`survived`). Use a figure size of (10,6). Set the palette to `muted`. Apply additional customizations to achieve the desired appearance below:\n",
    "![pic4.PNG](attachment:fc164779-af11-470c-a651-a001d455a1a9.PNG)\n",
    "##### Q9d. What are some observations that you can make from the plot in Q9c?"
   ]
  },
  {
   "cell_type": "code",
   "execution_count": null,
   "id": "81f52d9c-cf37-49c2-b3f8-1e7171a55e2d",
   "metadata": {},
   "outputs": [],
   "source": [
    "# Q9 Load Libraries Here\n"
   ]
  },
  {
   "cell_type": "code",
   "execution_count": null,
   "id": "55537a63-afca-4d0a-9865-d2bf41763809",
   "metadata": {},
   "outputs": [],
   "source": [
    "# Q9a.\n"
   ]
  },
  {
   "cell_type": "code",
   "execution_count": null,
   "id": "56644000-f728-45c8-a12a-2a4dd2647bce",
   "metadata": {},
   "outputs": [],
   "source": [
    "# Q9b.\n",
    "\n",
    "# Answer:"
   ]
  },
  {
   "cell_type": "code",
   "execution_count": null,
   "id": "8719d8c4-c00e-4e3e-aeba-04a1a2331daf",
   "metadata": {},
   "outputs": [],
   "source": [
    "# Q9c.\n"
   ]
  },
  {
   "cell_type": "code",
   "execution_count": null,
   "id": "93e1628b-1e6a-4b12-8654-1308e71b3bfa",
   "metadata": {},
   "outputs": [],
   "source": [
    "# Q9d.\n",
    "\n",
    "# Answer:"
   ]
  },
  {
   "cell_type": "markdown",
   "id": "104fd283-8014-41f2-9b26-cf76d8514814",
   "metadata": {
    "jp-MarkdownHeadingCollapsed": true
   },
   "source": [
    "### Q10. Use the iris dataset from Seaborn for this question.\n",
    "##### Q10a. Load the iris dataset into a pandas DataFrame. Using Plotly Express, create a scatter plot to visualize the relationship of `sepal_width` against `sepal_length` from the iris dataset. Color the data points by species. Add a title `Scatter Plot of Sepal Dimensions by Species` to the plot.\n",
    "##### Q10b. Based on the interactive plot in Q10a, which species has the longest `sepal_length`, and what is the value of that `sepal_length`? Similarly, which species has the shortest `sepal_width`, and what is the value of that `sepal_width`?"
   ]
  },
  {
   "cell_type": "code",
   "execution_count": null,
   "id": "b0f76767-f435-4a0e-8851-efd5251d976e",
   "metadata": {},
   "outputs": [],
   "source": [
    "# Q10 Load Libraries Here\n"
   ]
  },
  {
   "cell_type": "code",
   "execution_count": null,
   "id": "db595220-5d9e-4fe5-bedb-fb41f9fe01ab",
   "metadata": {},
   "outputs": [],
   "source": [
    "# 10a.\n"
   ]
  },
  {
   "cell_type": "code",
   "execution_count": null,
   "id": "25f122e0-d93f-4031-891a-23be2084a841",
   "metadata": {},
   "outputs": [],
   "source": [
    "# Q10b.\n",
    "\n",
    "# Answer: "
   ]
  }
 ],
 "metadata": {
  "kernelspec": {
   "display_name": "Python 3 (ipykernel)",
   "language": "python",
   "name": "python3"
  },
  "language_info": {
   "codemirror_mode": {
    "name": "ipython",
    "version": 3
   },
   "file_extension": ".py",
   "mimetype": "text/x-python",
   "name": "python",
   "nbconvert_exporter": "python",
   "pygments_lexer": "ipython3",
   "version": "3.11.7"
  }
 },
 "nbformat": 4,
 "nbformat_minor": 5
}
