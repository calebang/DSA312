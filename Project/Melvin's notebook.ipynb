{
 "cells": [
  {
   "cell_type": "code",
   "execution_count": 82,
   "id": "30d8046a",
   "metadata": {},
   "outputs": [],
   "source": [
    "from IPython.core.interactiveshell import InteractiveShell\n",
    "InteractiveShell.ast_node_interactivity = \"all\""
   ]
  },
  {
   "cell_type": "code",
   "execution_count": 113,
   "id": "954470d6",
   "metadata": {},
   "outputs": [
    {
     "data": {
      "text/html": [
       "<div>\n",
       "<style scoped>\n",
       "    .dataframe tbody tr th:only-of-type {\n",
       "        vertical-align: middle;\n",
       "    }\n",
       "\n",
       "    .dataframe tbody tr th {\n",
       "        vertical-align: top;\n",
       "    }\n",
       "\n",
       "    .dataframe thead th {\n",
       "        text-align: right;\n",
       "    }\n",
       "</style>\n",
       "<table border=\"1\" class=\"dataframe\">\n",
       "  <thead>\n",
       "    <tr style=\"text-align: right;\">\n",
       "      <th></th>\n",
       "      <th>GENDER</th>\n",
       "      <th>AGE</th>\n",
       "      <th>SMOKING</th>\n",
       "      <th>YELLOW_FINGERS</th>\n",
       "      <th>ANXIETY</th>\n",
       "      <th>PEER_PRESSURE</th>\n",
       "      <th>CHRONIC DISEASE</th>\n",
       "      <th>FATIGUE</th>\n",
       "      <th>ALLERGY</th>\n",
       "      <th>WHEEZING</th>\n",
       "      <th>ALCOHOL CONSUMING</th>\n",
       "      <th>COUGHING</th>\n",
       "      <th>SHORTNESS OF BREATH</th>\n",
       "      <th>SWALLOWING DIFFICULTY</th>\n",
       "      <th>CHEST PAIN</th>\n",
       "      <th>LUNG_CANCER</th>\n",
       "    </tr>\n",
       "  </thead>\n",
       "  <tbody>\n",
       "    <tr>\n",
       "      <th>8813</th>\n",
       "      <td>0.0</td>\n",
       "      <td>21.0</td>\n",
       "      <td>1.0</td>\n",
       "      <td>0.0</td>\n",
       "      <td>0.0</td>\n",
       "      <td>0.0</td>\n",
       "      <td>1.0</td>\n",
       "      <td>1.0</td>\n",
       "      <td>1.0</td>\n",
       "      <td>0.0</td>\n",
       "      <td>0.0</td>\n",
       "      <td>0.0</td>\n",
       "      <td>1.0</td>\n",
       "      <td>0.0</td>\n",
       "      <td>0.0</td>\n",
       "      <td>1.0</td>\n",
       "    </tr>\n",
       "    <tr>\n",
       "      <th>8811</th>\n",
       "      <td>0.0</td>\n",
       "      <td>44.0</td>\n",
       "      <td>1.0</td>\n",
       "      <td>1.0</td>\n",
       "      <td>1.0</td>\n",
       "      <td>1.0</td>\n",
       "      <td>1.0</td>\n",
       "      <td>1.0</td>\n",
       "      <td>0.0</td>\n",
       "      <td>0.0</td>\n",
       "      <td>0.0</td>\n",
       "      <td>0.0</td>\n",
       "      <td>1.0</td>\n",
       "      <td>1.0</td>\n",
       "      <td>0.0</td>\n",
       "      <td>0.0</td>\n",
       "    </tr>\n",
       "    <tr>\n",
       "      <th>8959</th>\n",
       "      <td>1.0</td>\n",
       "      <td>44.0</td>\n",
       "      <td>0.0</td>\n",
       "      <td>1.0</td>\n",
       "      <td>0.0</td>\n",
       "      <td>1.0</td>\n",
       "      <td>1.0</td>\n",
       "      <td>1.0</td>\n",
       "      <td>0.0</td>\n",
       "      <td>1.0</td>\n",
       "      <td>0.0</td>\n",
       "      <td>0.0</td>\n",
       "      <td>1.0</td>\n",
       "      <td>1.0</td>\n",
       "      <td>1.0</td>\n",
       "      <td>1.0</td>\n",
       "    </tr>\n",
       "    <tr>\n",
       "      <th>4500</th>\n",
       "      <td>1.0</td>\n",
       "      <td>46.0</td>\n",
       "      <td>1.0</td>\n",
       "      <td>1.0</td>\n",
       "      <td>1.0</td>\n",
       "      <td>1.0</td>\n",
       "      <td>1.0</td>\n",
       "      <td>1.0</td>\n",
       "      <td>1.0</td>\n",
       "      <td>0.0</td>\n",
       "      <td>0.0</td>\n",
       "      <td>0.0</td>\n",
       "      <td>1.0</td>\n",
       "      <td>0.0</td>\n",
       "      <td>0.0</td>\n",
       "      <td>1.0</td>\n",
       "    </tr>\n",
       "    <tr>\n",
       "      <th>6546</th>\n",
       "      <td>1.0</td>\n",
       "      <td>46.0</td>\n",
       "      <td>1.0</td>\n",
       "      <td>1.0</td>\n",
       "      <td>0.0</td>\n",
       "      <td>1.0</td>\n",
       "      <td>0.0</td>\n",
       "      <td>1.0</td>\n",
       "      <td>0.0</td>\n",
       "      <td>0.0</td>\n",
       "      <td>0.0</td>\n",
       "      <td>1.0</td>\n",
       "      <td>0.0</td>\n",
       "      <td>0.0</td>\n",
       "      <td>1.0</td>\n",
       "      <td>1.0</td>\n",
       "    </tr>\n",
       "    <tr>\n",
       "      <th>...</th>\n",
       "      <td>...</td>\n",
       "      <td>...</td>\n",
       "      <td>...</td>\n",
       "      <td>...</td>\n",
       "      <td>...</td>\n",
       "      <td>...</td>\n",
       "      <td>...</td>\n",
       "      <td>...</td>\n",
       "      <td>...</td>\n",
       "      <td>...</td>\n",
       "      <td>...</td>\n",
       "      <td>...</td>\n",
       "      <td>...</td>\n",
       "      <td>...</td>\n",
       "      <td>...</td>\n",
       "      <td>...</td>\n",
       "    </tr>\n",
       "    <tr>\n",
       "      <th>7227</th>\n",
       "      <td>0.0</td>\n",
       "      <td>78.0</td>\n",
       "      <td>0.0</td>\n",
       "      <td>1.0</td>\n",
       "      <td>0.0</td>\n",
       "      <td>1.0</td>\n",
       "      <td>0.0</td>\n",
       "      <td>1.0</td>\n",
       "      <td>0.0</td>\n",
       "      <td>0.0</td>\n",
       "      <td>0.0</td>\n",
       "      <td>1.0</td>\n",
       "      <td>1.0</td>\n",
       "      <td>0.0</td>\n",
       "      <td>0.0</td>\n",
       "      <td>1.0</td>\n",
       "    </tr>\n",
       "    <tr>\n",
       "      <th>806</th>\n",
       "      <td>1.0</td>\n",
       "      <td>78.0</td>\n",
       "      <td>0.0</td>\n",
       "      <td>0.0</td>\n",
       "      <td>0.0</td>\n",
       "      <td>1.0</td>\n",
       "      <td>1.0</td>\n",
       "      <td>0.0</td>\n",
       "      <td>0.0</td>\n",
       "      <td>1.0</td>\n",
       "      <td>0.0</td>\n",
       "      <td>0.0</td>\n",
       "      <td>0.0</td>\n",
       "      <td>0.0</td>\n",
       "      <td>1.0</td>\n",
       "      <td>0.0</td>\n",
       "    </tr>\n",
       "    <tr>\n",
       "      <th>8995</th>\n",
       "      <td>1.0</td>\n",
       "      <td>79.0</td>\n",
       "      <td>1.0</td>\n",
       "      <td>0.0</td>\n",
       "      <td>0.0</td>\n",
       "      <td>0.0</td>\n",
       "      <td>1.0</td>\n",
       "      <td>1.0</td>\n",
       "      <td>1.0</td>\n",
       "      <td>0.0</td>\n",
       "      <td>1.0</td>\n",
       "      <td>1.0</td>\n",
       "      <td>1.0</td>\n",
       "      <td>1.0</td>\n",
       "      <td>1.0</td>\n",
       "      <td>1.0</td>\n",
       "    </tr>\n",
       "    <tr>\n",
       "      <th>8874</th>\n",
       "      <td>0.0</td>\n",
       "      <td>81.0</td>\n",
       "      <td>0.0</td>\n",
       "      <td>0.0</td>\n",
       "      <td>0.0</td>\n",
       "      <td>1.0</td>\n",
       "      <td>1.0</td>\n",
       "      <td>0.0</td>\n",
       "      <td>1.0</td>\n",
       "      <td>0.0</td>\n",
       "      <td>1.0</td>\n",
       "      <td>1.0</td>\n",
       "      <td>1.0</td>\n",
       "      <td>0.0</td>\n",
       "      <td>0.0</td>\n",
       "      <td>1.0</td>\n",
       "    </tr>\n",
       "    <tr>\n",
       "      <th>8892</th>\n",
       "      <td>0.0</td>\n",
       "      <td>81.0</td>\n",
       "      <td>0.0</td>\n",
       "      <td>1.0</td>\n",
       "      <td>1.0</td>\n",
       "      <td>1.0</td>\n",
       "      <td>1.0</td>\n",
       "      <td>1.0</td>\n",
       "      <td>1.0</td>\n",
       "      <td>1.0</td>\n",
       "      <td>0.0</td>\n",
       "      <td>1.0</td>\n",
       "      <td>1.0</td>\n",
       "      <td>1.0</td>\n",
       "      <td>1.0</td>\n",
       "      <td>1.0</td>\n",
       "    </tr>\n",
       "  </tbody>\n",
       "</table>\n",
       "<p>9001 rows × 16 columns</p>\n",
       "</div>"
      ],
      "text/plain": [
       "      GENDER   AGE  SMOKING  YELLOW_FINGERS  ANXIETY  PEER_PRESSURE  \\\n",
       "8813     0.0  21.0      1.0             0.0      0.0            0.0   \n",
       "8811     0.0  44.0      1.0             1.0      1.0            1.0   \n",
       "8959     1.0  44.0      0.0             1.0      0.0            1.0   \n",
       "4500     1.0  46.0      1.0             1.0      1.0            1.0   \n",
       "6546     1.0  46.0      1.0             1.0      0.0            1.0   \n",
       "...      ...   ...      ...             ...      ...            ...   \n",
       "7227     0.0  78.0      0.0             1.0      0.0            1.0   \n",
       "806      1.0  78.0      0.0             0.0      0.0            1.0   \n",
       "8995     1.0  79.0      1.0             0.0      0.0            0.0   \n",
       "8874     0.0  81.0      0.0             0.0      0.0            1.0   \n",
       "8892     0.0  81.0      0.0             1.0      1.0            1.0   \n",
       "\n",
       "      CHRONIC DISEASE  FATIGUE   ALLERGY   WHEEZING  ALCOHOL CONSUMING  \\\n",
       "8813              1.0       1.0       1.0       0.0                0.0   \n",
       "8811              1.0       1.0       0.0       0.0                0.0   \n",
       "8959              1.0       1.0       0.0       1.0                0.0   \n",
       "4500              1.0       1.0       1.0       0.0                0.0   \n",
       "6546              0.0       1.0       0.0       0.0                0.0   \n",
       "...               ...       ...       ...       ...                ...   \n",
       "7227              0.0       1.0       0.0       0.0                0.0   \n",
       "806               1.0       0.0       0.0       1.0                0.0   \n",
       "8995              1.0       1.0       1.0       0.0                1.0   \n",
       "8874              1.0       0.0       1.0       0.0                1.0   \n",
       "8892              1.0       1.0       1.0       1.0                0.0   \n",
       "\n",
       "      COUGHING  SHORTNESS OF BREATH  SWALLOWING DIFFICULTY  CHEST PAIN  \\\n",
       "8813       0.0                  1.0                    0.0         0.0   \n",
       "8811       0.0                  1.0                    1.0         0.0   \n",
       "8959       0.0                  1.0                    1.0         1.0   \n",
       "4500       0.0                  1.0                    0.0         0.0   \n",
       "6546       1.0                  0.0                    0.0         1.0   \n",
       "...        ...                  ...                    ...         ...   \n",
       "7227       1.0                  1.0                    0.0         0.0   \n",
       "806        0.0                  0.0                    0.0         1.0   \n",
       "8995       1.0                  1.0                    1.0         1.0   \n",
       "8874       1.0                  1.0                    0.0         0.0   \n",
       "8892       1.0                  1.0                    1.0         1.0   \n",
       "\n",
       "      LUNG_CANCER  \n",
       "8813          1.0  \n",
       "8811          0.0  \n",
       "8959          1.0  \n",
       "4500          1.0  \n",
       "6546          1.0  \n",
       "...           ...  \n",
       "7227          1.0  \n",
       "806           0.0  \n",
       "8995          1.0  \n",
       "8874          1.0  \n",
       "8892          1.0  \n",
       "\n",
       "[9001 rows x 16 columns]"
      ]
     },
     "execution_count": 113,
     "metadata": {},
     "output_type": "execute_result"
    }
   ],
   "source": [
    "import pandas as pd\n",
    "import numpy as np\n",
    "import matplotlib as mpl\n",
    "import matplotlib.pyplot as plt\n",
    "import seaborn as sns\n",
    "\n",
    "df = pd.read_csv(\"lung cancer survey.csv\")\n",
    "df_no_na = df.dropna()\n",
    "df_no_na.sort_values(by = \"AGE\")\n",
    "\n",
    "\n",
    "#21 year old observation is anomalous. Thus, dropped.\n",
    "df_no_na = df_no_na[df_no_na[\"AGE\"] > 21]"
   ]
  },
  {
   "cell_type": "markdown",
   "id": "43800396",
   "metadata": {},
   "source": [
    "The code below looks for potential \"interaction features\" between binary features (except for GENDER) that exhibit worthwhile correlations (threshold > 0.15) with LUNG_CANCER.\n",
    "\n",
    "It finds that the only worthwhile ones are still those that feature YELLOW_FINGERS and ALCOHOL CONSUMING."
   ]
  },
  {
   "cell_type": "code",
   "execution_count": 93,
   "id": "15bc6692",
   "metadata": {},
   "outputs": [
    {
     "name": "stdout",
     "output_type": "stream",
     "text": [
      "Base Dataset:\n",
      "('YELLOW_FINGERS', 'FATIGUE ')               0.157296\n",
      "('YELLOW_FINGERS', 'SHORTNESS OF BREATH')    0.155044\n",
      "('FATIGUE ', 'ALCOHOL CONSUMING')            0.171992\n",
      "('ALLERGY ', 'ALCOHOL CONSUMING')            0.158326\n",
      "dtype: float64\n"
     ]
    }
   ],
   "source": [
    "from itertools import combinations\n",
    "\n",
    "def get_worthwhile_interactions(df, dfname):\n",
    "    above0_15 = []\n",
    "    above0_15_index = []\n",
    "    for i in range(2, 14):\n",
    "        combolist = list(combinations(df.columns[2:-1], i))\n",
    "        for eachcombo in combolist:\n",
    "            df[f\"{eachcombo}\"] = df[eachcombo[0]] * df[eachcombo[1]]\n",
    "            if i > 2:\n",
    "                for j in range(2, len(eachcombo)):\n",
    "                    df[f\"{eachcombo}\"] = df[f\"{eachcombo}\"] * df[eachcombo[j]]\n",
    "            if df[\"LUNG_CANCER\"].corr(df[f\"{eachcombo}\"]) > 0.15:\n",
    "                above0_15.append(df[\"LUNG_CANCER\"].corr(df[f\"{eachcombo}\"]))\n",
    "                above0_15_index.append(f\"{eachcombo}\")\n",
    "            df.drop(f\"{eachcombo}\", axis = 1, inplace = True)\n",
    "    above0_15_combos = pd.Series(above0_15, index = above0_15_index)\n",
    "    print(f\"{dfname} Dataset:\\n{above0_15_combos}\")\n",
    "\n",
    "get_worthwhile_interactions(df_no_na, \"Base\")\n"
   ]
  },
  {
   "cell_type": "markdown",
   "id": "64543531",
   "metadata": {},
   "source": [
    "The code below creates subsets of the observations split by the following age groups: 40's, 50's, 60's, and 70-80's.\n",
    "\n",
    "Not the most even split, but not too bad..."
   ]
  },
  {
   "cell_type": "code",
   "execution_count": 99,
   "id": "165c96d6",
   "metadata": {},
   "outputs": [
    {
     "data": {
      "text/plain": [
       "2355"
      ]
     },
     "execution_count": 99,
     "metadata": {},
     "output_type": "execute_result"
    },
    {
     "data": {
      "text/plain": [
       "1586"
      ]
     },
     "execution_count": 99,
     "metadata": {},
     "output_type": "execute_result"
    },
    {
     "data": {
      "text/plain": [
       "2131"
      ]
     },
     "execution_count": 99,
     "metadata": {},
     "output_type": "execute_result"
    },
    {
     "data": {
      "text/plain": [
       "2272"
      ]
     },
     "execution_count": 99,
     "metadata": {},
     "output_type": "execute_result"
    },
    {
     "name": "stdout",
     "output_type": "stream",
     "text": [
      "40's Dataset Lung Cancer Percentage:\n",
      "77.62%\n",
      "50's Dataset Lung Cancer Percentage:\n",
      "81.08%\n",
      "60's Dataset Lung Cancer Percentage:\n",
      "79.73%\n",
      "70-80's Dataset Lung Cancer Percentage:\n",
      "84.11%\n"
     ]
    }
   ],
   "source": [
    "df_40s = df_no_na[df_no_na[\"AGE\"] < 50]\n",
    "df_50s = df_no_na[(df_no_na[\"AGE\"] < 60) & (df_no_na[\"AGE\"] > 50)]\n",
    "df_60s = df_no_na[(df_no_na[\"AGE\"] < 70) & (df_no_na[\"AGE\"] > 60)]\n",
    "df_7080s = df_no_na[(df_no_na[\"AGE\"] < 90) & (df_no_na[\"AGE\"] > 70)]\n",
    "\n",
    "len(df_40s)\n",
    "len(df_50s)\n",
    "len(df_60s)\n",
    "len(df_7080s)\n",
    "\n",
    "def get_LUNG_CANCER_percentage(df, dfname):\n",
    "    percentage = round(100*df[\"LUNG_CANCER\"].sum()/len(df), 2)\n",
    "    print(f\"{dfname} Dataset Lung Cancer Percentage:\\n{percentage}%\")\n",
    "\n",
    "get_LUNG_CANCER_percentage(df_40s, \"40's\")\n",
    "get_LUNG_CANCER_percentage(df_50s, \"50's\")\n",
    "get_LUNG_CANCER_percentage(df_60s, \"60's\")\n",
    "get_LUNG_CANCER_percentage(df_7080s, \"70-80's\")\n"
   ]
  },
  {
   "cell_type": "markdown",
   "id": "6472242e",
   "metadata": {},
   "source": [
    "The code below looks for worthwhile correlations (threshold > 0.15) between variables for each age-split subset.\n",
    "\n",
    "It appears that bad lifestyle habits tend to correlate more with LUNG_CANCER for those younger, particularly those in their 40's. This could be worth exploring further."
   ]
  },
  {
   "cell_type": "code",
   "execution_count": 92,
   "id": "884d6818",
   "metadata": {},
   "outputs": [
    {
     "name": "stdout",
     "output_type": "stream",
     "text": [
      "40's Dataset:\n",
      "YELLOW_FINGERS-LUNG_CANCER       0.288240\n",
      "ALCOHOL CONSUMING-LUNG_CANCER    0.245348\n",
      "dtype: float64\n",
      "50's Dataset:\n",
      "YELLOW_FINGERS-LUNG_CANCER       0.187003\n",
      "ALCOHOL CONSUMING-LUNG_CANCER    0.206184\n",
      "dtype: float64\n",
      "60's Dataset:\n",
      "YELLOW_FINGERS-LUNG_CANCER       0.204202\n",
      "ALCOHOL CONSUMING-LUNG_CANCER    0.219129\n",
      "dtype: float64\n",
      "70-80's Dataset:\n",
      "YELLOW_FINGERS-LUNG_CANCER    0.164413\n",
      "dtype: float64\n"
     ]
    }
   ],
   "source": [
    "def get_worthwhile_correlations(df, dfname):\n",
    "    corre = df.corr()\n",
    "    vals = []\n",
    "    indices = []\n",
    "    for i in range(16):\n",
    "        for j in range(16):\n",
    "            if corre.iloc[i, j] > 0.15 and corre.iloc[i, j] < 1 and corre.iloc[i, j] not in vals:\n",
    "                vals.append(corre.iloc[i, j])\n",
    "                indices.append(corre.axes[0][i] + \"-\" + corre.axes[1][j])\n",
    "    worthwhile = pd.Series(vals, index = indices)\n",
    "    if len(worthwhile) > 0:\n",
    "        print(f\"{dfname} Dataset:\\n{worthwhile}\")\n",
    "    else:\n",
    "        print(f\"{dfname} Dataset:\\n–\")\n",
    "\n",
    "get_worthwhile_correlations(df_40s, \"40's\")\n",
    "get_worthwhile_correlations(df_50s, \"50's\")\n",
    "get_worthwhile_correlations(df_60s, \"60's\")\n",
    "get_worthwhile_correlations(df_7080s, \"70-80's\")\n",
    "    "
   ]
  },
  {
   "cell_type": "markdown",
   "id": "6404013a",
   "metadata": {},
   "source": [
    "The code below creates subsets of the observations split by GENDER. \n",
    "\n",
    "It appears that women tend to be somewhat more prone to developing LUNG_CANCER."
   ]
  },
  {
   "cell_type": "code",
   "execution_count": 100,
   "id": "df821209",
   "metadata": {},
   "outputs": [
    {
     "data": {
      "text/plain": [
       "4173"
      ]
     },
     "execution_count": 100,
     "metadata": {},
     "output_type": "execute_result"
    },
    {
     "data": {
      "text/plain": [
       "4827"
      ]
     },
     "execution_count": 100,
     "metadata": {},
     "output_type": "execute_result"
    },
    {
     "name": "stdout",
     "output_type": "stream",
     "text": [
      "Women Dataset Lung Cancer Percentage:\n",
      "86.51%\n",
      "Men Dataset Lung Cancer Percentage:\n",
      "75.31%\n"
     ]
    }
   ],
   "source": [
    "df_women = df_no_na[df_no_na[\"GENDER\"] == 0]\n",
    "df_men = df_no_na[df_no_na[\"GENDER\"] == 1]\n",
    "\n",
    "len(df_women)\n",
    "len(df_men)\n",
    "\n",
    "get_LUNG_CANCER_percentage(df_women, \"Women\")\n",
    "get_LUNG_CANCER_percentage(df_men, \"Men\")"
   ]
  },
  {
   "cell_type": "markdown",
   "id": "5e4493c8",
   "metadata": {},
   "source": [
    "The code below looks for worthwhile correlations (threshold > 0.15) between variables for each gender-split subset.\n",
    "\n",
    "It appears that bad lifestyle habits tend to be quite strongly correlated with LUNG_CANCER for men, but not for women. Crucially, note that YELLOW_FINGERS and ALCOHOL CONSUMING have no strong correlation with GENDER, and also this is despite LUNG_CANCER being more prevalent in women. This is definitely worth discussing.\n",
    "\n",
    "Bad lifestyle habits vis-a-vis LUNG_CANCER are yet again the only worthwhile correlations."
   ]
  },
  {
   "cell_type": "code",
   "execution_count": 88,
   "id": "0e213113",
   "metadata": {},
   "outputs": [
    {
     "name": "stdout",
     "output_type": "stream",
     "text": [
      "Women Dataset:\n",
      "–\n",
      "Men Dataset:\n",
      "YELLOW_FINGERS-LUNG_CANCER       0.293804\n",
      "ALCOHOL CONSUMING-LUNG_CANCER    0.291756\n",
      "dtype: float64\n"
     ]
    },
    {
     "data": {
      "text/html": [
       "<div>\n",
       "<style scoped>\n",
       "    .dataframe tbody tr th:only-of-type {\n",
       "        vertical-align: middle;\n",
       "    }\n",
       "\n",
       "    .dataframe tbody tr th {\n",
       "        vertical-align: top;\n",
       "    }\n",
       "\n",
       "    .dataframe thead th {\n",
       "        text-align: right;\n",
       "    }\n",
       "</style>\n",
       "<table border=\"1\" class=\"dataframe\">\n",
       "  <thead>\n",
       "    <tr style=\"text-align: right;\">\n",
       "      <th></th>\n",
       "      <th>GENDER</th>\n",
       "      <th>YELLOW_FINGERS</th>\n",
       "      <th>ALCOHOL CONSUMING</th>\n",
       "    </tr>\n",
       "  </thead>\n",
       "  <tbody>\n",
       "    <tr>\n",
       "      <th>GENDER</th>\n",
       "      <td>1.000000</td>\n",
       "      <td>-0.031982</td>\n",
       "      <td>0.040493</td>\n",
       "    </tr>\n",
       "    <tr>\n",
       "      <th>YELLOW_FINGERS</th>\n",
       "      <td>-0.031982</td>\n",
       "      <td>1.000000</td>\n",
       "      <td>-0.075707</td>\n",
       "    </tr>\n",
       "    <tr>\n",
       "      <th>ALCOHOL CONSUMING</th>\n",
       "      <td>0.040493</td>\n",
       "      <td>-0.075707</td>\n",
       "      <td>1.000000</td>\n",
       "    </tr>\n",
       "  </tbody>\n",
       "</table>\n",
       "</div>"
      ],
      "text/plain": [
       "                     GENDER  YELLOW_FINGERS  ALCOHOL CONSUMING\n",
       "GENDER             1.000000       -0.031982           0.040493\n",
       "YELLOW_FINGERS    -0.031982        1.000000          -0.075707\n",
       "ALCOHOL CONSUMING  0.040493       -0.075707           1.000000"
      ]
     },
     "execution_count": 88,
     "metadata": {},
     "output_type": "execute_result"
    },
    {
     "data": {
      "text/html": [
       "<div>\n",
       "<style scoped>\n",
       "    .dataframe tbody tr th:only-of-type {\n",
       "        vertical-align: middle;\n",
       "    }\n",
       "\n",
       "    .dataframe tbody tr th {\n",
       "        vertical-align: top;\n",
       "    }\n",
       "\n",
       "    .dataframe thead th {\n",
       "        text-align: right;\n",
       "    }\n",
       "</style>\n",
       "<table border=\"1\" class=\"dataframe\">\n",
       "  <thead>\n",
       "    <tr style=\"text-align: right;\">\n",
       "      <th></th>\n",
       "      <th>GENDER</th>\n",
       "      <th>BAD LIFESTYLE</th>\n",
       "    </tr>\n",
       "  </thead>\n",
       "  <tbody>\n",
       "    <tr>\n",
       "      <th>GENDER</th>\n",
       "      <td>1.000000</td>\n",
       "      <td>0.009919</td>\n",
       "    </tr>\n",
       "    <tr>\n",
       "      <th>BAD LIFESTYLE</th>\n",
       "      <td>0.009919</td>\n",
       "      <td>1.000000</td>\n",
       "    </tr>\n",
       "  </tbody>\n",
       "</table>\n",
       "</div>"
      ],
      "text/plain": [
       "                 GENDER  BAD LIFESTYLE\n",
       "GENDER         1.000000       0.009919\n",
       "BAD LIFESTYLE  0.009919       1.000000"
      ]
     },
     "execution_count": 88,
     "metadata": {},
     "output_type": "execute_result"
    }
   ],
   "source": [
    "get_worthwhile_correlations(df_women, \"Women\")\n",
    "get_worthwhile_correlations(df_men, \"Men\")\n",
    "\n",
    "df_no_na[[\"GENDER\", \"YELLOW_FINGERS\", \"ALCOHOL CONSUMING\"]].corr()\n",
    "df_no_na[\"BAD LIFESTYLE\"] = df_no_na[\"YELLOW_FINGERS\"] * df_no_na[\"ALCOHOL CONSUMING\"]\n",
    "df_no_na[[\"GENDER\", \"BAD LIFESTYLE\"]].corr()\n",
    "df_no_na.drop(\"BAD LIFESTYLE\", axis = 1, inplace= True)"
   ]
  },
  {
   "cell_type": "markdown",
   "id": "0e5dda83",
   "metadata": {},
   "source": [
    "The code below creates subsets of the observations split by age group and GENDER."
   ]
  },
  {
   "cell_type": "code",
   "execution_count": 89,
   "id": "d281db7e",
   "metadata": {},
   "outputs": [
    {
     "data": {
      "text/plain": [
       "1087"
      ]
     },
     "execution_count": 89,
     "metadata": {},
     "output_type": "execute_result"
    },
    {
     "data": {
      "text/plain": [
       "1268"
      ]
     },
     "execution_count": 89,
     "metadata": {},
     "output_type": "execute_result"
    },
    {
     "data": {
      "text/plain": [
       "736"
      ]
     },
     "execution_count": 89,
     "metadata": {},
     "output_type": "execute_result"
    },
    {
     "data": {
      "text/plain": [
       "850"
      ]
     },
     "execution_count": 89,
     "metadata": {},
     "output_type": "execute_result"
    },
    {
     "data": {
      "text/plain": [
       "993"
      ]
     },
     "execution_count": 89,
     "metadata": {},
     "output_type": "execute_result"
    },
    {
     "data": {
      "text/plain": [
       "1138"
      ]
     },
     "execution_count": 89,
     "metadata": {},
     "output_type": "execute_result"
    },
    {
     "data": {
      "text/plain": [
       "1048"
      ]
     },
     "execution_count": 89,
     "metadata": {},
     "output_type": "execute_result"
    },
    {
     "data": {
      "text/plain": [
       "1224"
      ]
     },
     "execution_count": 89,
     "metadata": {},
     "output_type": "execute_result"
    }
   ],
   "source": [
    "df_women_40s = df_40s[df_40s[\"GENDER\"] == 0]\n",
    "df_men_40s = df_40s[df_40s[\"GENDER\"] == 1]\n",
    "df_women_50s = df_50s[df_50s[\"GENDER\"] == 0]\n",
    "df_men_50s = df_50s[df_50s[\"GENDER\"] == 1]\n",
    "df_women_60s = df_60s[df_60s[\"GENDER\"] == 0]\n",
    "df_men_60s = df_60s[df_60s[\"GENDER\"] == 1]\n",
    "df_women_7080s = df_7080s[df_7080s[\"GENDER\"] == 0]\n",
    "df_men_7080s = df_7080s[df_7080s[\"GENDER\"] == 1]\n",
    "\n",
    "len(df_women_40s)\n",
    "len(df_men_40s)\n",
    "len(df_women_50s)\n",
    "len(df_men_50s)\n",
    "len(df_women_60s)\n",
    "len(df_men_60s)\n",
    "len(df_women_7080s)\n",
    "len(df_men_7080s)"
   ]
  },
  {
   "cell_type": "markdown",
   "id": "665fbc34",
   "metadata": {},
   "source": [
    "The code below looks for worthwhile correlations (threshold > 0.15) between variables for each gender-split subset.\n",
    "\n",
    "The results further confirm our narrative. Bad lifestyle habits are most strongly correlated with LUNG_CANCER for men in their 40's."
   ]
  },
  {
   "cell_type": "code",
   "execution_count": 90,
   "id": "84e8855d",
   "metadata": {},
   "outputs": [
    {
     "name": "stdout",
     "output_type": "stream",
     "text": [
      "Women 40's Dataset:\n",
      "–\n",
      "Men 40's Dataset:\n",
      "YELLOW_FINGERS-LUNG_CANCER           0.387811\n",
      "ALLERGY -LUNG_CANCER                 0.154652\n",
      "ALCOHOL CONSUMING-LUNG_CANCER        0.341955\n",
      "SWALLOWING DIFFICULTY-LUNG_CANCER    0.159349\n",
      "dtype: float64\n",
      "Women 50's Dataset:\n",
      "WHEEZING-ALCOHOL CONSUMING    0.173804\n",
      "dtype: float64\n",
      "Men 50's Dataset:\n",
      "YELLOW_FINGERS-LUNG_CANCER       0.244936\n",
      "ALLERGY -LUNG_CANCER             0.216418\n",
      "ALCOHOL CONSUMING-LUNG_CANCER    0.287947\n",
      "dtype: float64\n",
      "Women 60's Dataset:\n",
      "–\n",
      "Men 60's Dataset:\n",
      "YELLOW_FINGERS-LUNG_CANCER           0.258366\n",
      "ALLERGY -LUNG_CANCER                 0.182561\n",
      "ALCOHOL CONSUMING-LUNG_CANCER        0.307768\n",
      "SWALLOWING DIFFICULTY-LUNG_CANCER    0.155467\n",
      "dtype: float64\n",
      "Women 70-80's Dataset:\n",
      "PEER_PRESSURE-SWALLOWING DIFFICULTY    0.153924\n",
      "dtype: float64\n",
      "Men 70-80's Dataset:\n",
      "YELLOW_FINGERS-LUNG_CANCER       0.229933\n",
      "ALCOHOL CONSUMING-LUNG_CANCER    0.219037\n",
      "dtype: float64\n"
     ]
    }
   ],
   "source": [
    "get_worthwhile_correlations(df_women_40s, \"Women 40's\")\n",
    "get_worthwhile_correlations(df_men_40s, \"Men 40's\")\n",
    "get_worthwhile_correlations(df_women_50s, \"Women 50's\")\n",
    "get_worthwhile_correlations(df_men_50s, \"Men 50's\")\n",
    "get_worthwhile_correlations(df_women_60s, \"Women 60's\")\n",
    "get_worthwhile_correlations(df_men_60s, \"Men 60's\")\n",
    "get_worthwhile_correlations(df_women_7080s, \"Women 70-80's\")\n",
    "get_worthwhile_correlations(df_men_7080s, \"Men 70-80's\")"
   ]
  }
 ],
 "metadata": {
  "kernelspec": {
   "display_name": "base",
   "language": "python",
   "name": "python3"
  },
  "language_info": {
   "codemirror_mode": {
    "name": "ipython",
    "version": 3
   },
   "file_extension": ".py",
   "mimetype": "text/x-python",
   "name": "python",
   "nbconvert_exporter": "python",
   "pygments_lexer": "ipython3",
   "version": "3.12.4"
  }
 },
 "nbformat": 4,
 "nbformat_minor": 5
}
