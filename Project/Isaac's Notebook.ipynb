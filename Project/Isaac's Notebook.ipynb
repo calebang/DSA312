{
 "cells": [
  {
   "cell_type": "code",
   "execution_count": null,
   "id": "a407a3e9-395f-4b75-82ca-703b93ff0c1d",
   "metadata": {},
   "outputs": [],
   "source": [
    "# The effectiveness of cancer prediction system helps people to better understand risk of cancer at a low cost.\n",
    "# It also helps people to take appropriate measures and improve decision making\n",
    "# Key Message(s): Your report should focus on 1 (or at most 2) key message(s) that are crucial for the audience to understand.\n",
    "# These could be insights related to risk factors, demographic trends, symptom prevalence, or other important findings from the dataset.\n",
    "# Key message: 1. Lifestyle habits and 2. their associated symptoms\n",
    "# 1. Lifestyle habits: SMOKING, ALCOHOL CONSUMING, PEER_PRESSURE (?)\n",
    "# 2. Associated Symptons: YELLOW_FINGERS, FATIGUE, WHEEZING, COUGHING, SHORTNESS OF BREATH, SWALLOWING DIFFICULTY, CHEST PAIN "
   ]
  },
  {
   "cell_type": "code",
   "execution_count": null,
   "id": "df78e35c-0985-4bd0-98e6-354df5836b23",
   "metadata": {},
   "outputs": [],
   "source": [
    "# Questions to talk about \n"
   ]
  },
  {
   "cell_type": "code",
   "execution_count": 35,
   "id": "a348adc4-7ae1-4b8e-b4fc-563e91d6ecca",
   "metadata": {},
   "outputs": [],
   "source": [
    "from IPython.core.interactiveshell import InteractiveShell\n",
    "InteractiveShell.ast_node_interactivity = \"all\""
   ]
  },
  {
   "cell_type": "code",
   "execution_count": 37,
   "id": "aeec4222-257e-4a8e-8ab5-05bdd1403cef",
   "metadata": {},
   "outputs": [
    {
     "data": {
      "text/html": [
       "<div>\n",
       "<style scoped>\n",
       "    .dataframe tbody tr th:only-of-type {\n",
       "        vertical-align: middle;\n",
       "    }\n",
       "\n",
       "    .dataframe tbody tr th {\n",
       "        vertical-align: top;\n",
       "    }\n",
       "\n",
       "    .dataframe thead th {\n",
       "        text-align: right;\n",
       "    }\n",
       "</style>\n",
       "<table border=\"1\" class=\"dataframe\">\n",
       "  <thead>\n",
       "    <tr style=\"text-align: right;\">\n",
       "      <th></th>\n",
       "      <th>GENDER</th>\n",
       "      <th>AGE</th>\n",
       "      <th>SMOKING</th>\n",
       "      <th>YELLOW_FINGERS</th>\n",
       "      <th>ANXIETY</th>\n",
       "      <th>PEER_PRESSURE</th>\n",
       "      <th>CHRONIC DISEASE</th>\n",
       "      <th>FATIGUE</th>\n",
       "      <th>ALLERGY</th>\n",
       "      <th>WHEEZING</th>\n",
       "      <th>ALCOHOL CONSUMING</th>\n",
       "      <th>COUGHING</th>\n",
       "      <th>SHORTNESS OF BREATH</th>\n",
       "      <th>SWALLOWING DIFFICULTY</th>\n",
       "      <th>CHEST PAIN</th>\n",
       "      <th>LUNG_CANCER</th>\n",
       "    </tr>\n",
       "  </thead>\n",
       "  <tbody>\n",
       "    <tr>\n",
       "      <th>0</th>\n",
       "      <td>0.0</td>\n",
       "      <td>61.0</td>\n",
       "      <td>0.0</td>\n",
       "      <td>0.0</td>\n",
       "      <td>1.0</td>\n",
       "      <td>1.0</td>\n",
       "      <td>0.0</td>\n",
       "      <td>1.0</td>\n",
       "      <td>0.0</td>\n",
       "      <td>0.0</td>\n",
       "      <td>0.0</td>\n",
       "      <td>0.0</td>\n",
       "      <td>1.0</td>\n",
       "      <td>0.0</td>\n",
       "      <td>0.0</td>\n",
       "      <td>1.0</td>\n",
       "    </tr>\n",
       "    <tr>\n",
       "      <th>1</th>\n",
       "      <td>1.0</td>\n",
       "      <td>70.0</td>\n",
       "      <td>1.0</td>\n",
       "      <td>1.0</td>\n",
       "      <td>0.0</td>\n",
       "      <td>0.0</td>\n",
       "      <td>1.0</td>\n",
       "      <td>0.0</td>\n",
       "      <td>1.0</td>\n",
       "      <td>1.0</td>\n",
       "      <td>0.0</td>\n",
       "      <td>1.0</td>\n",
       "      <td>1.0</td>\n",
       "      <td>0.0</td>\n",
       "      <td>0.0</td>\n",
       "      <td>1.0</td>\n",
       "    </tr>\n",
       "    <tr>\n",
       "      <th>2</th>\n",
       "      <td>1.0</td>\n",
       "      <td>59.0</td>\n",
       "      <td>0.0</td>\n",
       "      <td>0.0</td>\n",
       "      <td>0.0</td>\n",
       "      <td>0.0</td>\n",
       "      <td>1.0</td>\n",
       "      <td>1.0</td>\n",
       "      <td>0.0</td>\n",
       "      <td>0.0</td>\n",
       "      <td>0.0</td>\n",
       "      <td>0.0</td>\n",
       "      <td>0.0</td>\n",
       "      <td>0.0</td>\n",
       "      <td>1.0</td>\n",
       "      <td>0.0</td>\n",
       "    </tr>\n",
       "    <tr>\n",
       "      <th>3</th>\n",
       "      <td>1.0</td>\n",
       "      <td>54.0</td>\n",
       "      <td>0.0</td>\n",
       "      <td>0.0</td>\n",
       "      <td>0.0</td>\n",
       "      <td>1.0</td>\n",
       "      <td>0.0</td>\n",
       "      <td>1.0</td>\n",
       "      <td>0.0</td>\n",
       "      <td>1.0</td>\n",
       "      <td>1.0</td>\n",
       "      <td>1.0</td>\n",
       "      <td>1.0</td>\n",
       "      <td>0.0</td>\n",
       "      <td>1.0</td>\n",
       "      <td>1.0</td>\n",
       "    </tr>\n",
       "    <tr>\n",
       "      <th>4</th>\n",
       "      <td>0.0</td>\n",
       "      <td>54.0</td>\n",
       "      <td>1.0</td>\n",
       "      <td>0.0</td>\n",
       "      <td>0.0</td>\n",
       "      <td>1.0</td>\n",
       "      <td>0.0</td>\n",
       "      <td>1.0</td>\n",
       "      <td>1.0</td>\n",
       "      <td>0.0</td>\n",
       "      <td>1.0</td>\n",
       "      <td>0.0</td>\n",
       "      <td>0.0</td>\n",
       "      <td>1.0</td>\n",
       "      <td>0.0</td>\n",
       "      <td>1.0</td>\n",
       "    </tr>\n",
       "    <tr>\n",
       "      <th>...</th>\n",
       "      <td>...</td>\n",
       "      <td>...</td>\n",
       "      <td>...</td>\n",
       "      <td>...</td>\n",
       "      <td>...</td>\n",
       "      <td>...</td>\n",
       "      <td>...</td>\n",
       "      <td>...</td>\n",
       "      <td>...</td>\n",
       "      <td>...</td>\n",
       "      <td>...</td>\n",
       "      <td>...</td>\n",
       "      <td>...</td>\n",
       "      <td>...</td>\n",
       "      <td>...</td>\n",
       "      <td>...</td>\n",
       "    </tr>\n",
       "    <tr>\n",
       "      <th>9095</th>\n",
       "      <td>NaN</td>\n",
       "      <td>NaN</td>\n",
       "      <td>NaN</td>\n",
       "      <td>NaN</td>\n",
       "      <td>NaN</td>\n",
       "      <td>NaN</td>\n",
       "      <td>NaN</td>\n",
       "      <td>NaN</td>\n",
       "      <td>NaN</td>\n",
       "      <td>NaN</td>\n",
       "      <td>NaN</td>\n",
       "      <td>NaN</td>\n",
       "      <td>NaN</td>\n",
       "      <td>NaN</td>\n",
       "      <td>NaN</td>\n",
       "      <td>NaN</td>\n",
       "    </tr>\n",
       "    <tr>\n",
       "      <th>9096</th>\n",
       "      <td>NaN</td>\n",
       "      <td>NaN</td>\n",
       "      <td>NaN</td>\n",
       "      <td>NaN</td>\n",
       "      <td>NaN</td>\n",
       "      <td>NaN</td>\n",
       "      <td>NaN</td>\n",
       "      <td>NaN</td>\n",
       "      <td>NaN</td>\n",
       "      <td>NaN</td>\n",
       "      <td>NaN</td>\n",
       "      <td>NaN</td>\n",
       "      <td>NaN</td>\n",
       "      <td>NaN</td>\n",
       "      <td>NaN</td>\n",
       "      <td>NaN</td>\n",
       "    </tr>\n",
       "    <tr>\n",
       "      <th>9097</th>\n",
       "      <td>NaN</td>\n",
       "      <td>NaN</td>\n",
       "      <td>NaN</td>\n",
       "      <td>NaN</td>\n",
       "      <td>NaN</td>\n",
       "      <td>NaN</td>\n",
       "      <td>NaN</td>\n",
       "      <td>NaN</td>\n",
       "      <td>NaN</td>\n",
       "      <td>NaN</td>\n",
       "      <td>NaN</td>\n",
       "      <td>NaN</td>\n",
       "      <td>NaN</td>\n",
       "      <td>NaN</td>\n",
       "      <td>NaN</td>\n",
       "      <td>NaN</td>\n",
       "    </tr>\n",
       "    <tr>\n",
       "      <th>9098</th>\n",
       "      <td>NaN</td>\n",
       "      <td>NaN</td>\n",
       "      <td>NaN</td>\n",
       "      <td>NaN</td>\n",
       "      <td>NaN</td>\n",
       "      <td>NaN</td>\n",
       "      <td>NaN</td>\n",
       "      <td>NaN</td>\n",
       "      <td>NaN</td>\n",
       "      <td>NaN</td>\n",
       "      <td>NaN</td>\n",
       "      <td>NaN</td>\n",
       "      <td>NaN</td>\n",
       "      <td>NaN</td>\n",
       "      <td>NaN</td>\n",
       "      <td>NaN</td>\n",
       "    </tr>\n",
       "    <tr>\n",
       "      <th>9099</th>\n",
       "      <td>1.0</td>\n",
       "      <td>62.0</td>\n",
       "      <td>0.0</td>\n",
       "      <td>0.0</td>\n",
       "      <td>0.0</td>\n",
       "      <td>1.0</td>\n",
       "      <td>0.0</td>\n",
       "      <td>1.0</td>\n",
       "      <td>1.0</td>\n",
       "      <td>1.0</td>\n",
       "      <td>1.0</td>\n",
       "      <td>0.0</td>\n",
       "      <td>0.0</td>\n",
       "      <td>1.0</td>\n",
       "      <td>0.0</td>\n",
       "      <td>1.0</td>\n",
       "    </tr>\n",
       "  </tbody>\n",
       "</table>\n",
       "<p>9100 rows × 16 columns</p>\n",
       "</div>"
      ],
      "text/plain": [
       "      GENDER   AGE  SMOKING  YELLOW_FINGERS  ANXIETY  PEER_PRESSURE  \\\n",
       "0        0.0  61.0      0.0             0.0      1.0            1.0   \n",
       "1        1.0  70.0      1.0             1.0      0.0            0.0   \n",
       "2        1.0  59.0      0.0             0.0      0.0            0.0   \n",
       "3        1.0  54.0      0.0             0.0      0.0            1.0   \n",
       "4        0.0  54.0      1.0             0.0      0.0            1.0   \n",
       "...      ...   ...      ...             ...      ...            ...   \n",
       "9095     NaN   NaN      NaN             NaN      NaN            NaN   \n",
       "9096     NaN   NaN      NaN             NaN      NaN            NaN   \n",
       "9097     NaN   NaN      NaN             NaN      NaN            NaN   \n",
       "9098     NaN   NaN      NaN             NaN      NaN            NaN   \n",
       "9099     1.0  62.0      0.0             0.0      0.0            1.0   \n",
       "\n",
       "      CHRONIC DISEASE  FATIGUE   ALLERGY   WHEEZING  ALCOHOL CONSUMING  \\\n",
       "0                 0.0       1.0       0.0       0.0                0.0   \n",
       "1                 1.0       0.0       1.0       1.0                0.0   \n",
       "2                 1.0       1.0       0.0       0.0                0.0   \n",
       "3                 0.0       1.0       0.0       1.0                1.0   \n",
       "4                 0.0       1.0       1.0       0.0                1.0   \n",
       "...               ...       ...       ...       ...                ...   \n",
       "9095              NaN       NaN       NaN       NaN                NaN   \n",
       "9096              NaN       NaN       NaN       NaN                NaN   \n",
       "9097              NaN       NaN       NaN       NaN                NaN   \n",
       "9098              NaN       NaN       NaN       NaN                NaN   \n",
       "9099              0.0       1.0       1.0       1.0                1.0   \n",
       "\n",
       "      COUGHING  SHORTNESS OF BREATH  SWALLOWING DIFFICULTY  CHEST PAIN  \\\n",
       "0          0.0                  1.0                    0.0         0.0   \n",
       "1          1.0                  1.0                    0.0         0.0   \n",
       "2          0.0                  0.0                    0.0         1.0   \n",
       "3          1.0                  1.0                    0.0         1.0   \n",
       "4          0.0                  0.0                    1.0         0.0   \n",
       "...        ...                  ...                    ...         ...   \n",
       "9095       NaN                  NaN                    NaN         NaN   \n",
       "9096       NaN                  NaN                    NaN         NaN   \n",
       "9097       NaN                  NaN                    NaN         NaN   \n",
       "9098       NaN                  NaN                    NaN         NaN   \n",
       "9099       0.0                  0.0                    1.0         0.0   \n",
       "\n",
       "      LUNG_CANCER  \n",
       "0             1.0  \n",
       "1             1.0  \n",
       "2             0.0  \n",
       "3             1.0  \n",
       "4             1.0  \n",
       "...           ...  \n",
       "9095          NaN  \n",
       "9096          NaN  \n",
       "9097          NaN  \n",
       "9098          NaN  \n",
       "9099          1.0  \n",
       "\n",
       "[9100 rows x 16 columns]"
      ]
     },
     "execution_count": 37,
     "metadata": {},
     "output_type": "execute_result"
    }
   ],
   "source": [
    "import pandas as pd\n",
    "import numpy as np\n",
    "import matplotlib.pyplot as plt\n",
    "import seaborn as sns\n",
    "from ydata_profiling import ProfileReport\n",
    "\n",
    "cancer_w_NA = pd.read_csv(\"/Users/isaacleongwenxuan/Desktop/4.1/DSA312/Group/DSA312/Data/lung cancer survey.csv\")\n",
    "cancer_w_NA"
   ]
  },
  {
   "cell_type": "code",
   "execution_count": 39,
   "id": "b8f01816-9d67-4d11-be8a-c0151722f85b",
   "metadata": {},
   "outputs": [
    {
     "data": {
      "text/plain": [
       "GENDER                   99\n",
       "AGE                      99\n",
       "SMOKING                  99\n",
       "YELLOW_FINGERS           99\n",
       "ANXIETY                  99\n",
       "PEER_PRESSURE            99\n",
       "CHRONIC DISEASE          99\n",
       "FATIGUE                  99\n",
       "ALLERGY                  99\n",
       "WHEEZING                 99\n",
       "ALCOHOL CONSUMING        99\n",
       "COUGHING                 99\n",
       "SHORTNESS OF BREATH      99\n",
       "SWALLOWING DIFFICULTY    99\n",
       "CHEST PAIN               99\n",
       "LUNG_CANCER              99\n",
       "dtype: int64"
      ]
     },
     "execution_count": 39,
     "metadata": {},
     "output_type": "execute_result"
    },
    {
     "data": {
      "text/plain": [
       "9001"
      ]
     },
     "execution_count": 39,
     "metadata": {},
     "output_type": "execute_result"
    }
   ],
   "source": [
    "# Counting the number of NAs in each column\n",
    "cancer_w_NA.isna().sum()\n",
    "cancer = cancer_w_NA.dropna()\n",
    "len(cancer) #9,001 rows left - 99 rows dropped"
   ]
  },
  {
   "cell_type": "code",
   "execution_count": 41,
   "id": "8e36ee02-d962-410e-8345-de76825444bc",
   "metadata": {},
   "outputs": [
    {
     "data": {
      "text/plain": [
       "AGE\n",
       "21.0       1\n",
       "44.0       2\n",
       "46.0    2030\n",
       "47.0     110\n",
       "48.0     116\n",
       "49.0      97\n",
       "50.0     177\n",
       "51.0     186\n",
       "52.0     173\n",
       "53.0     136\n",
       "54.0     159\n",
       "55.0     152\n",
       "56.0     168\n",
       "57.0     195\n",
       "58.0     184\n",
       "59.0     233\n",
       "60.0     270\n",
       "61.0     235\n",
       "62.0     263\n",
       "63.0     242\n",
       "64.0     226\n",
       "65.0     226\n",
       "66.0     201\n",
       "67.0     260\n",
       "68.0     218\n",
       "69.0     260\n",
       "70.0     209\n",
       "71.0     167\n",
       "72.0     185\n",
       "73.0     155\n",
       "74.0     140\n",
       "75.0     148\n",
       "76.0     150\n",
       "77.0    1174\n",
       "78.0     150\n",
       "79.0       1\n",
       "81.0       2\n",
       "Name: AGE, dtype: int64"
      ]
     },
     "execution_count": 41,
     "metadata": {},
     "output_type": "execute_result"
    }
   ],
   "source": [
    "#Checking number of people per age group\n",
    "cancer.groupby('AGE')['AGE'].count()"
   ]
  },
  {
   "cell_type": "code",
   "execution_count": 81,
   "id": "2d14fd59-05ad-43a6-a2d8-3de0b0cb7df5",
   "metadata": {},
   "outputs": [],
   "source": [
    "#dropped the outlier\n",
    "cancer = cancer[cancer['AGE'] > 21]"
   ]
  },
  {
   "cell_type": "code",
   "execution_count": 85,
   "id": "c59afb83-cb03-4554-8bc7-fca0ef20d333",
   "metadata": {},
   "outputs": [
    {
     "data": {
      "image/png": "[encoded data removed]",
      "text/plain": [
       "<Figure size 1000x600 with 1 Axes>"
      ]
     },
     "metadata": {},
     "output_type": "display_data"
    }
   ],
   "source": [
    "# Showing proportions of Age distribution\n",
    "plt.figure(figsize=(10, 6))\n",
    "plt.hist(cancer['AGE'],\n",
    "        bins = 40,\n",
    "        density = True,\n",
    "        cumulative = False,\n",
    "        edgecolor = 'black',\n",
    "        alpha = 0.5)\n",
    "plt.title('Age Distribution as a %')\n",
    "plt.xlabel('Age')\n",
    "plt.ylabel('Frequency')\n",
    "plt.grid(True)\n",
    "\n",
    "# Display the plot\n",
    "plt.show();"
   ]
  },
  {
   "cell_type": "code",
   "execution_count": 91,
   "id": "0139dcfe-6e43-4fe1-8b2c-92dc8678cc5a",
   "metadata": {},
   "outputs": [
    {
     "data": {
      "text/plain": [
       "<Axes: xlabel='AGE'>"
      ]
     },
     "execution_count": 91,
     "metadata": {},
     "output_type": "execute_result"
    },
    {
     "data": {
      "text/plain": [
       "Text(0.5, 1.0, 'No. of patients and in each age group & its survivors')"
      ]
     },
     "execution_count": 91,
     "metadata": {},
     "output_type": "execute_result"
    },
    {
     "data": {
      "text/plain": [
       "Text(0.5, 0, 'Age')"
      ]
     },
     "execution_count": 91,
     "metadata": {},
     "output_type": "execute_result"
    },
    {
     "data": {
      "text/plain": [
       "Text(0, 0.5, 'Number of Patients')"
      ]
     },
     "execution_count": 91,
     "metadata": {},
     "output_type": "execute_result"
    },
    {
     "data": {
      "text/plain": [
       "<matplotlib.legend.Legend at 0x1684f2ea0>"
      ]
     },
     "execution_count": 91,
     "metadata": {},
     "output_type": "execute_result"
    },
    {
     "data": {
      "image/png": "[encoded data removed]",
      "text/plain": [
       "<Figure size 1000x600 with 1 Axes>"
      ]
     },
     "metadata": {},
     "output_type": "display_data"
    }
   ],
   "source": [
    "cancer.groupby('AGE')['LUNG_CANCER'].agg(['count', 'sum']).plot(\n",
    "    kind='bar',\n",
    "    figsize=(10, 6),\n",
    "    color=['green', 'blue'],\n",
    "    edgecolor='grey'\n",
    ")\n",
    "\n",
    "# Customize the plot\n",
    "plt.title('No. of patients and in each age group & its survivors')\n",
    "plt.xlabel('Age')\n",
    "plt.ylabel('Number of Patients')\n",
    "plt.legend(['Total Patients', 'Cancer'])\n",
    "\n",
    "# Display the plot\n",
    "plt.show()"
   ]
  },
  {
   "cell_type": "code",
   "execution_count": 117,
   "id": "cc3385d3-3d0f-4f52-a9b6-fe98706d089e",
   "metadata": {},
   "outputs": [
    {
     "data": {
      "text/plain": [
       "7245"
      ]
     },
     "execution_count": 117,
     "metadata": {},
     "output_type": "execute_result"
    },
    {
     "data": {
      "text/plain": [
       "1755"
      ]
     },
     "execution_count": 117,
     "metadata": {},
     "output_type": "execute_result"
    },
    {
     "data": {
      "text/plain": [
       "0.5365079365079365"
      ]
     },
     "execution_count": 117,
     "metadata": {},
     "output_type": "execute_result"
    },
    {
     "data": {
      "text/plain": [
       "0.456980056980057"
      ]
     },
     "execution_count": 117,
     "metadata": {},
     "output_type": "execute_result"
    },
    {
     "data": {
      "text/plain": [
       "0.5762594893029676"
      ]
     },
     "execution_count": 117,
     "metadata": {},
     "output_type": "execute_result"
    },
    {
     "data": {
      "text/plain": [
       "0.3145299145299145"
      ]
     },
     "execution_count": 117,
     "metadata": {},
     "output_type": "execute_result"
    }
   ],
   "source": [
    "# Spilt into Cancer & No Cancer datasets\n",
    "cancer_yes = cancer[cancer['LUNG_CANCER'] == 1]\n",
    "cancer_no = cancer[cancer['LUNG_CANCER'] == 0]\n",
    "len(cancer_yes)\n",
    "len(cancer_no)\n",
    "\n",
    "#proportion of Cancer/Non-cancer patients who smokes\n",
    "len(cancer_yes[cancer_yes['SMOKING'] == 1]) / len(cancer_yes) #0.537, 54% of people who has cancer, smokes.\n",
    "len(cancer_no[cancer_no['SMOKING'] == 1]) / len(cancer_no) #0.457, slightly less than 50% of people who has no cancer, smokes\n",
    "# thus, almost equal prop of people who smokes have cancer\n",
    "\n",
    "#proportion of Cancer/Non-cancer patients who consumes alcohol\n",
    "len(cancer_yes[cancer_yes['ALCOHOL CONSUMING'] == 1]) / len(cancer_yes) #0.576, 57% of people who has cancer, consumes alcohol.\n",
    "len(cancer_no[cancer_no['ALCOHOL CONSUMING'] == 1]) / len(cancer_no) #0.315, 31.5% of people who has no cancer, consumes alcohol.\n",
    "# thus, out of the people who has cancer, a larger percentage of them consumes alcohol."
   ]
  },
  {
   "cell_type": "code",
   "execution_count": 259,
   "id": "f433edff-4756-4e42-8fcd-42c2e8d77397",
   "metadata": {},
   "outputs": [
    {
     "data": {
      "text/html": [
       "<div>\n",
       "<style scoped>\n",
       "    .dataframe tbody tr th:only-of-type {\n",
       "        vertical-align: middle;\n",
       "    }\n",
       "\n",
       "    .dataframe tbody tr th {\n",
       "        vertical-align: top;\n",
       "    }\n",
       "\n",
       "    .dataframe thead th {\n",
       "        text-align: right;\n",
       "    }\n",
       "</style>\n",
       "<table border=\"1\" class=\"dataframe\">\n",
       "  <thead>\n",
       "    <tr style=\"text-align: right;\">\n",
       "      <th></th>\n",
       "      <th>LUNG_CANCER</th>\n",
       "      <th>SMOKING</th>\n",
       "      <th>PEER_PRESSURE</th>\n",
       "      <th>ALCOHOL CONSUMING</th>\n",
       "      <th>AGE</th>\n",
       "    </tr>\n",
       "  </thead>\n",
       "  <tbody>\n",
       "    <tr>\n",
       "      <th>LUNG_CANCER</th>\n",
       "      <td>1.000000</td>\n",
       "      <td>0.063074</td>\n",
       "      <td>0.057908</td>\n",
       "      <td>0.207659</td>\n",
       "      <td>0.052523</td>\n",
       "    </tr>\n",
       "    <tr>\n",
       "      <th>SMOKING</th>\n",
       "      <td>0.063074</td>\n",
       "      <td>1.000000</td>\n",
       "      <td>-0.026481</td>\n",
       "      <td>-0.019939</td>\n",
       "      <td>0.008597</td>\n",
       "    </tr>\n",
       "    <tr>\n",
       "      <th>PEER_PRESSURE</th>\n",
       "      <td>0.057908</td>\n",
       "      <td>-0.026481</td>\n",
       "      <td>1.000000</td>\n",
       "      <td>-0.057384</td>\n",
       "      <td>0.007555</td>\n",
       "    </tr>\n",
       "    <tr>\n",
       "      <th>ALCOHOL CONSUMING</th>\n",
       "      <td>0.207659</td>\n",
       "      <td>-0.019939</td>\n",
       "      <td>-0.057384</td>\n",
       "      <td>1.000000</td>\n",
       "      <td>-0.004965</td>\n",
       "    </tr>\n",
       "    <tr>\n",
       "      <th>AGE</th>\n",
       "      <td>0.052523</td>\n",
       "      <td>0.008597</td>\n",
       "      <td>0.007555</td>\n",
       "      <td>-0.004965</td>\n",
       "      <td>1.000000</td>\n",
       "    </tr>\n",
       "  </tbody>\n",
       "</table>\n",
       "</div>"
      ],
      "text/plain": [
       "                   LUNG_CANCER   SMOKING  PEER_PRESSURE  ALCOHOL CONSUMING  \\\n",
       "LUNG_CANCER           1.000000  0.063074       0.057908           0.207659   \n",
       "SMOKING               0.063074  1.000000      -0.026481          -0.019939   \n",
       "PEER_PRESSURE         0.057908 -0.026481       1.000000          -0.057384   \n",
       "ALCOHOL CONSUMING     0.207659 -0.019939      -0.057384           1.000000   \n",
       "AGE                   0.052523  0.008597       0.007555          -0.004965   \n",
       "\n",
       "                        AGE  \n",
       "LUNG_CANCER        0.052523  \n",
       "SMOKING            0.008597  \n",
       "PEER_PRESSURE      0.007555  \n",
       "ALCOHOL CONSUMING -0.004965  \n",
       "AGE                1.000000  "
      ]
     },
     "execution_count": 259,
     "metadata": {},
     "output_type": "execute_result"
    }
   ],
   "source": [
    "# Corr analysis - task 1 \n",
    "cancer[['LUNG_CANCER','SMOKING', 'PEER_PRESSURE','ALCOHOL CONSUMING','AGE']].corr()\n",
    "# Output: Smoking and Peer pressure has barely any corr. Alcohol consumption has the most corr w lung cancer of about 0.207659\n",
    "# Added age too but barely any corr too"
   ]
  },
  {
   "cell_type": "code",
   "execution_count": 177,
   "id": "c61a6e08-dda9-4f65-9ace-8bb498a59a21",
   "metadata": {},
   "outputs": [
    {
     "data": {
      "text/html": [
       "<div>\n",
       "<style scoped>\n",
       "    .dataframe tbody tr th:only-of-type {\n",
       "        vertical-align: middle;\n",
       "    }\n",
       "\n",
       "    .dataframe tbody tr th {\n",
       "        vertical-align: top;\n",
       "    }\n",
       "\n",
       "    .dataframe thead th {\n",
       "        text-align: right;\n",
       "    }\n",
       "</style>\n",
       "<table border=\"1\" class=\"dataframe\">\n",
       "  <thead>\n",
       "    <tr style=\"text-align: right;\">\n",
       "      <th></th>\n",
       "      <th>LUNG_CANCER</th>\n",
       "      <th>YELLOW_FINGERS</th>\n",
       "      <th>WHEEZING</th>\n",
       "      <th>COUGHING</th>\n",
       "      <th>SHORTNESS OF BREATH</th>\n",
       "      <th>SWALLOWING DIFFICULTY</th>\n",
       "      <th>CHEST PAIN</th>\n",
       "    </tr>\n",
       "  </thead>\n",
       "  <tbody>\n",
       "    <tr>\n",
       "      <th>LUNG_CANCER</th>\n",
       "      <td>1.000000</td>\n",
       "      <td>0.217762</td>\n",
       "      <td>-0.080372</td>\n",
       "      <td>-0.000414</td>\n",
       "      <td>-0.050093</td>\n",
       "      <td>0.108176</td>\n",
       "      <td>-0.012796</td>\n",
       "    </tr>\n",
       "    <tr>\n",
       "      <th>YELLOW_FINGERS</th>\n",
       "      <td>0.217762</td>\n",
       "      <td>1.000000</td>\n",
       "      <td>-0.043450</td>\n",
       "      <td>0.014883</td>\n",
       "      <td>0.016048</td>\n",
       "      <td>0.065091</td>\n",
       "      <td>-0.018293</td>\n",
       "    </tr>\n",
       "    <tr>\n",
       "      <th>WHEEZING</th>\n",
       "      <td>-0.080372</td>\n",
       "      <td>-0.043450</td>\n",
       "      <td>1.000000</td>\n",
       "      <td>0.049138</td>\n",
       "      <td>0.010180</td>\n",
       "      <td>0.027963</td>\n",
       "      <td>0.009885</td>\n",
       "    </tr>\n",
       "    <tr>\n",
       "      <th>COUGHING</th>\n",
       "      <td>-0.000414</td>\n",
       "      <td>0.014883</td>\n",
       "      <td>0.049138</td>\n",
       "      <td>1.000000</td>\n",
       "      <td>0.034095</td>\n",
       "      <td>-0.083149</td>\n",
       "      <td>0.021032</td>\n",
       "    </tr>\n",
       "    <tr>\n",
       "      <th>SHORTNESS OF BREATH</th>\n",
       "      <td>-0.050093</td>\n",
       "      <td>0.016048</td>\n",
       "      <td>0.010180</td>\n",
       "      <td>0.034095</td>\n",
       "      <td>1.000000</td>\n",
       "      <td>-0.008706</td>\n",
       "      <td>-0.006708</td>\n",
       "    </tr>\n",
       "    <tr>\n",
       "      <th>SWALLOWING DIFFICULTY</th>\n",
       "      <td>0.108176</td>\n",
       "      <td>0.065091</td>\n",
       "      <td>0.027963</td>\n",
       "      <td>-0.083149</td>\n",
       "      <td>-0.008706</td>\n",
       "      <td>1.000000</td>\n",
       "      <td>0.007457</td>\n",
       "    </tr>\n",
       "    <tr>\n",
       "      <th>CHEST PAIN</th>\n",
       "      <td>-0.012796</td>\n",
       "      <td>-0.018293</td>\n",
       "      <td>0.009885</td>\n",
       "      <td>0.021032</td>\n",
       "      <td>-0.006708</td>\n",
       "      <td>0.007457</td>\n",
       "      <td>1.000000</td>\n",
       "    </tr>\n",
       "  </tbody>\n",
       "</table>\n",
       "</div>"
      ],
      "text/plain": [
       "                       LUNG_CANCER  YELLOW_FINGERS  WHEEZING  COUGHING  \\\n",
       "LUNG_CANCER               1.000000        0.217762 -0.080372 -0.000414   \n",
       "YELLOW_FINGERS            0.217762        1.000000 -0.043450  0.014883   \n",
       "WHEEZING                 -0.080372       -0.043450  1.000000  0.049138   \n",
       "COUGHING                 -0.000414        0.014883  0.049138  1.000000   \n",
       "SHORTNESS OF BREATH      -0.050093        0.016048  0.010180  0.034095   \n",
       "SWALLOWING DIFFICULTY     0.108176        0.065091  0.027963 -0.083149   \n",
       "CHEST PAIN               -0.012796       -0.018293  0.009885  0.021032   \n",
       "\n",
       "                       SHORTNESS OF BREATH  SWALLOWING DIFFICULTY  CHEST PAIN  \n",
       "LUNG_CANCER                      -0.050093               0.108176   -0.012796  \n",
       "YELLOW_FINGERS                    0.016048               0.065091   -0.018293  \n",
       "WHEEZING                          0.010180               0.027963    0.009885  \n",
       "COUGHING                          0.034095              -0.083149    0.021032  \n",
       "SHORTNESS OF BREATH               1.000000              -0.008706   -0.006708  \n",
       "SWALLOWING DIFFICULTY            -0.008706               1.000000    0.007457  \n",
       "CHEST PAIN                       -0.006708               0.007457    1.000000  "
      ]
     },
     "execution_count": 177,
     "metadata": {},
     "output_type": "execute_result"
    },
    {
     "data": {
      "text/plain": [
       "<Figure size 800x600 with 0 Axes>"
      ]
     },
     "execution_count": 177,
     "metadata": {},
     "output_type": "execute_result"
    },
    {
     "data": {
      "text/plain": [
       "<matplotlib.image.AxesImage at 0x176cd2840>"
      ]
     },
     "execution_count": 177,
     "metadata": {},
     "output_type": "execute_result"
    },
    {
     "data": {
      "text/plain": [
       "<matplotlib.colorbar.Colorbar at 0x176cd2750>"
      ]
     },
     "execution_count": 177,
     "metadata": {},
     "output_type": "execute_result"
    },
    {
     "data": {
      "text/plain": [
       "([<matplotlib.axis.XTick at 0x176c93ef0>,\n",
       "  <matplotlib.axis.XTick at 0x176c93a70>,\n",
       "  <matplotlib.axis.XTick at 0x176cb6720>,\n",
       "  <matplotlib.axis.XTick at 0x176d48ec0>,\n",
       "  <matplotlib.axis.XTick at 0x176d49880>,\n",
       "  <matplotlib.axis.XTick at 0x176d4a1b0>,\n",
       "  <matplotlib.axis.XTick at 0x176d4ab10>],\n",
       " [Text(0, 0, 'LUNG_CANCER'),\n",
       "  Text(1, 0, 'YELLOW_FINGERS'),\n",
       "  Text(2, 0, 'WHEEZING'),\n",
       "  Text(3, 0, 'COUGHING'),\n",
       "  Text(4, 0, 'SHORTNESS OF BREATH'),\n",
       "  Text(5, 0, 'SWALLOWING DIFFICULTY'),\n",
       "  Text(6, 0, 'CHEST PAIN')])"
      ]
     },
     "execution_count": 177,
     "metadata": {},
     "output_type": "execute_result"
    },
    {
     "data": {
      "text/plain": [
       "([<matplotlib.axis.YTick at 0x16ac24500>,\n",
       "  <matplotlib.axis.YTick at 0x176c90830>,\n",
       "  <matplotlib.axis.YTick at 0x176cd3260>,\n",
       "  <matplotlib.axis.YTick at 0x176d49df0>,\n",
       "  <matplotlib.axis.YTick at 0x176d4b800>,\n",
       "  <matplotlib.axis.YTick at 0x176d5c3b0>,\n",
       "  <matplotlib.axis.YTick at 0x176d5cce0>],\n",
       " [Text(0, 0, 'LUNG_CANCER'),\n",
       "  Text(0, 1, 'YELLOW_FINGERS'),\n",
       "  Text(0, 2, 'WHEEZING'),\n",
       "  Text(0, 3, 'COUGHING'),\n",
       "  Text(0, 4, 'SHORTNESS OF BREATH'),\n",
       "  Text(0, 5, 'SWALLOWING DIFFICULTY'),\n",
       "  Text(0, 6, 'CHEST PAIN')])"
      ]
     },
     "execution_count": 177,
     "metadata": {},
     "output_type": "execute_result"
    },
    {
     "data": {
      "text/plain": [
       "Text(0.5, 1.0, 'Correlation Matrix of Iris Features')"
      ]
     },
     "execution_count": 177,
     "metadata": {},
     "output_type": "execute_result"
    },
    {
     "data": {
      "image/png": "[encoded data removed]",
      "text/plain": [
       "<Figure size 800x600 with 2 Axes>"
      ]
     },
     "metadata": {},
     "output_type": "display_data"
    },
    {
     "data": {
      "text/html": [
       "<div>\n",
       "<style scoped>\n",
       "    .dataframe tbody tr th:only-of-type {\n",
       "        vertical-align: middle;\n",
       "    }\n",
       "\n",
       "    .dataframe tbody tr th {\n",
       "        vertical-align: top;\n",
       "    }\n",
       "\n",
       "    .dataframe thead th {\n",
       "        text-align: right;\n",
       "    }\n",
       "</style>\n",
       "<table border=\"1\" class=\"dataframe\">\n",
       "  <thead>\n",
       "    <tr style=\"text-align: right;\">\n",
       "      <th></th>\n",
       "      <th>GENDER</th>\n",
       "      <th>AGE</th>\n",
       "      <th>SMOKING</th>\n",
       "      <th>YELLOW_FINGERS</th>\n",
       "      <th>ANXIETY</th>\n",
       "      <th>PEER_PRESSURE</th>\n",
       "      <th>CHRONIC DISEASE</th>\n",
       "      <th>FATIGUE</th>\n",
       "      <th>ALLERGY</th>\n",
       "      <th>WHEEZING</th>\n",
       "      <th>ALCOHOL CONSUMING</th>\n",
       "      <th>COUGHING</th>\n",
       "      <th>SHORTNESS OF BREATH</th>\n",
       "      <th>SWALLOWING DIFFICULTY</th>\n",
       "      <th>CHEST PAIN</th>\n",
       "      <th>LUNG_CANCER</th>\n",
       "    </tr>\n",
       "  </thead>\n",
       "  <tbody>\n",
       "    <tr>\n",
       "      <th>1</th>\n",
       "      <td>1.0</td>\n",
       "      <td>70.0</td>\n",
       "      <td>1.0</td>\n",
       "      <td>1.0</td>\n",
       "      <td>0.0</td>\n",
       "      <td>0.0</td>\n",
       "      <td>1.0</td>\n",
       "      <td>0.0</td>\n",
       "      <td>1.0</td>\n",
       "      <td>1.0</td>\n",
       "      <td>0.0</td>\n",
       "      <td>1.0</td>\n",
       "      <td>1.0</td>\n",
       "      <td>0.0</td>\n",
       "      <td>0.0</td>\n",
       "      <td>1.0</td>\n",
       "    </tr>\n",
       "    <tr>\n",
       "      <th>5</th>\n",
       "      <td>1.0</td>\n",
       "      <td>78.0</td>\n",
       "      <td>1.0</td>\n",
       "      <td>1.0</td>\n",
       "      <td>0.0</td>\n",
       "      <td>1.0</td>\n",
       "      <td>1.0</td>\n",
       "      <td>1.0</td>\n",
       "      <td>1.0</td>\n",
       "      <td>1.0</td>\n",
       "      <td>0.0</td>\n",
       "      <td>1.0</td>\n",
       "      <td>1.0</td>\n",
       "      <td>0.0</td>\n",
       "      <td>0.0</td>\n",
       "      <td>1.0</td>\n",
       "    </tr>\n",
       "    <tr>\n",
       "      <th>9</th>\n",
       "      <td>0.0</td>\n",
       "      <td>46.0</td>\n",
       "      <td>0.0</td>\n",
       "      <td>1.0</td>\n",
       "      <td>0.0</td>\n",
       "      <td>0.0</td>\n",
       "      <td>0.0</td>\n",
       "      <td>1.0</td>\n",
       "      <td>0.0</td>\n",
       "      <td>0.0</td>\n",
       "      <td>0.0</td>\n",
       "      <td>1.0</td>\n",
       "      <td>1.0</td>\n",
       "      <td>0.0</td>\n",
       "      <td>0.0</td>\n",
       "      <td>1.0</td>\n",
       "    </tr>\n",
       "    <tr>\n",
       "      <th>10</th>\n",
       "      <td>1.0</td>\n",
       "      <td>65.0</td>\n",
       "      <td>1.0</td>\n",
       "      <td>1.0</td>\n",
       "      <td>0.0</td>\n",
       "      <td>1.0</td>\n",
       "      <td>0.0</td>\n",
       "      <td>0.0</td>\n",
       "      <td>1.0</td>\n",
       "      <td>0.0</td>\n",
       "      <td>0.0</td>\n",
       "      <td>0.0</td>\n",
       "      <td>0.0</td>\n",
       "      <td>0.0</td>\n",
       "      <td>0.0</td>\n",
       "      <td>1.0</td>\n",
       "    </tr>\n",
       "    <tr>\n",
       "      <th>13</th>\n",
       "      <td>1.0</td>\n",
       "      <td>77.0</td>\n",
       "      <td>1.0</td>\n",
       "      <td>1.0</td>\n",
       "      <td>0.0</td>\n",
       "      <td>0.0</td>\n",
       "      <td>1.0</td>\n",
       "      <td>1.0</td>\n",
       "      <td>1.0</td>\n",
       "      <td>0.0</td>\n",
       "      <td>1.0</td>\n",
       "      <td>0.0</td>\n",
       "      <td>1.0</td>\n",
       "      <td>0.0</td>\n",
       "      <td>1.0</td>\n",
       "      <td>1.0</td>\n",
       "    </tr>\n",
       "    <tr>\n",
       "      <th>...</th>\n",
       "      <td>...</td>\n",
       "      <td>...</td>\n",
       "      <td>...</td>\n",
       "      <td>...</td>\n",
       "      <td>...</td>\n",
       "      <td>...</td>\n",
       "      <td>...</td>\n",
       "      <td>...</td>\n",
       "      <td>...</td>\n",
       "      <td>...</td>\n",
       "      <td>...</td>\n",
       "      <td>...</td>\n",
       "      <td>...</td>\n",
       "      <td>...</td>\n",
       "      <td>...</td>\n",
       "      <td>...</td>\n",
       "    </tr>\n",
       "    <tr>\n",
       "      <th>8989</th>\n",
       "      <td>0.0</td>\n",
       "      <td>73.0</td>\n",
       "      <td>1.0</td>\n",
       "      <td>1.0</td>\n",
       "      <td>1.0</td>\n",
       "      <td>0.0</td>\n",
       "      <td>1.0</td>\n",
       "      <td>0.0</td>\n",
       "      <td>1.0</td>\n",
       "      <td>0.0</td>\n",
       "      <td>1.0</td>\n",
       "      <td>0.0</td>\n",
       "      <td>0.0</td>\n",
       "      <td>0.0</td>\n",
       "      <td>0.0</td>\n",
       "      <td>1.0</td>\n",
       "    </tr>\n",
       "    <tr>\n",
       "      <th>8994</th>\n",
       "      <td>0.0</td>\n",
       "      <td>65.0</td>\n",
       "      <td>0.0</td>\n",
       "      <td>1.0</td>\n",
       "      <td>1.0</td>\n",
       "      <td>1.0</td>\n",
       "      <td>1.0</td>\n",
       "      <td>0.0</td>\n",
       "      <td>1.0</td>\n",
       "      <td>1.0</td>\n",
       "      <td>1.0</td>\n",
       "      <td>1.0</td>\n",
       "      <td>1.0</td>\n",
       "      <td>1.0</td>\n",
       "      <td>0.0</td>\n",
       "      <td>1.0</td>\n",
       "    </tr>\n",
       "    <tr>\n",
       "      <th>8996</th>\n",
       "      <td>1.0</td>\n",
       "      <td>62.0</td>\n",
       "      <td>0.0</td>\n",
       "      <td>1.0</td>\n",
       "      <td>1.0</td>\n",
       "      <td>1.0</td>\n",
       "      <td>0.0</td>\n",
       "      <td>1.0</td>\n",
       "      <td>0.0</td>\n",
       "      <td>0.0</td>\n",
       "      <td>0.0</td>\n",
       "      <td>0.0</td>\n",
       "      <td>0.0</td>\n",
       "      <td>1.0</td>\n",
       "      <td>1.0</td>\n",
       "      <td>1.0</td>\n",
       "    </tr>\n",
       "    <tr>\n",
       "      <th>8997</th>\n",
       "      <td>0.0</td>\n",
       "      <td>71.0</td>\n",
       "      <td>1.0</td>\n",
       "      <td>1.0</td>\n",
       "      <td>1.0</td>\n",
       "      <td>0.0</td>\n",
       "      <td>0.0</td>\n",
       "      <td>0.0</td>\n",
       "      <td>1.0</td>\n",
       "      <td>0.0</td>\n",
       "      <td>1.0</td>\n",
       "      <td>1.0</td>\n",
       "      <td>1.0</td>\n",
       "      <td>0.0</td>\n",
       "      <td>1.0</td>\n",
       "      <td>1.0</td>\n",
       "    </tr>\n",
       "    <tr>\n",
       "      <th>8999</th>\n",
       "      <td>1.0</td>\n",
       "      <td>70.0</td>\n",
       "      <td>1.0</td>\n",
       "      <td>1.0</td>\n",
       "      <td>0.0</td>\n",
       "      <td>0.0</td>\n",
       "      <td>1.0</td>\n",
       "      <td>1.0</td>\n",
       "      <td>1.0</td>\n",
       "      <td>0.0</td>\n",
       "      <td>1.0</td>\n",
       "      <td>0.0</td>\n",
       "      <td>1.0</td>\n",
       "      <td>0.0</td>\n",
       "      <td>1.0</td>\n",
       "      <td>1.0</td>\n",
       "    </tr>\n",
       "  </tbody>\n",
       "</table>\n",
       "<p>4213 rows × 16 columns</p>\n",
       "</div>"
      ],
      "text/plain": [
       "      GENDER   AGE  SMOKING  YELLOW_FINGERS  ANXIETY  PEER_PRESSURE  \\\n",
       "1        1.0  70.0      1.0             1.0      0.0            0.0   \n",
       "5        1.0  78.0      1.0             1.0      0.0            1.0   \n",
       "9        0.0  46.0      0.0             1.0      0.0            0.0   \n",
       "10       1.0  65.0      1.0             1.0      0.0            1.0   \n",
       "13       1.0  77.0      1.0             1.0      0.0            0.0   \n",
       "...      ...   ...      ...             ...      ...            ...   \n",
       "8989     0.0  73.0      1.0             1.0      1.0            0.0   \n",
       "8994     0.0  65.0      0.0             1.0      1.0            1.0   \n",
       "8996     1.0  62.0      0.0             1.0      1.0            1.0   \n",
       "8997     0.0  71.0      1.0             1.0      1.0            0.0   \n",
       "8999     1.0  70.0      1.0             1.0      0.0            0.0   \n",
       "\n",
       "      CHRONIC DISEASE  FATIGUE   ALLERGY   WHEEZING  ALCOHOL CONSUMING  \\\n",
       "1                 1.0       0.0       1.0       1.0                0.0   \n",
       "5                 1.0       1.0       1.0       1.0                0.0   \n",
       "9                 0.0       1.0       0.0       0.0                0.0   \n",
       "10                0.0       0.0       1.0       0.0                0.0   \n",
       "13                1.0       1.0       1.0       0.0                1.0   \n",
       "...               ...       ...       ...       ...                ...   \n",
       "8989              1.0       0.0       1.0       0.0                1.0   \n",
       "8994              1.0       0.0       1.0       1.0                1.0   \n",
       "8996              0.0       1.0       0.0       0.0                0.0   \n",
       "8997              0.0       0.0       1.0       0.0                1.0   \n",
       "8999              1.0       1.0       1.0       0.0                1.0   \n",
       "\n",
       "      COUGHING  SHORTNESS OF BREATH  SWALLOWING DIFFICULTY  CHEST PAIN  \\\n",
       "1          1.0                  1.0                    0.0         0.0   \n",
       "5          1.0                  1.0                    0.0         0.0   \n",
       "9          1.0                  1.0                    0.0         0.0   \n",
       "10         0.0                  0.0                    0.0         0.0   \n",
       "13         0.0                  1.0                    0.0         1.0   \n",
       "...        ...                  ...                    ...         ...   \n",
       "8989       0.0                  0.0                    0.0         0.0   \n",
       "8994       1.0                  1.0                    1.0         0.0   \n",
       "8996       0.0                  0.0                    1.0         1.0   \n",
       "8997       1.0                  1.0                    0.0         1.0   \n",
       "8999       0.0                  1.0                    0.0         1.0   \n",
       "\n",
       "      LUNG_CANCER  \n",
       "1             1.0  \n",
       "5             1.0  \n",
       "9             1.0  \n",
       "10            1.0  \n",
       "13            1.0  \n",
       "...           ...  \n",
       "8989          1.0  \n",
       "8994          1.0  \n",
       "8996          1.0  \n",
       "8997          1.0  \n",
       "8999          1.0  \n",
       "\n",
       "[4213 rows x 16 columns]"
      ]
     },
     "execution_count": 177,
     "metadata": {},
     "output_type": "execute_result"
    }
   ],
   "source": [
    "# Prepare Corr matrix - #LEFT OUT FATIGUE CAUSE MY CODE CANT GET IT\n",
    "data = cancer.loc[:, ['LUNG_CANCER','YELLOW_FINGERS', 'WHEEZING', 'COUGHING', 'SHORTNESS OF BREATH', 'SWALLOWING DIFFICULTY', 'CHEST PAIN']]\n",
    "data[['LUNG_CANCER','YELLOW_FINGERS', 'WHEEZING', 'COUGHING', 'SHORTNESS OF BREATH', 'SWALLOWING DIFFICULTY', 'CHEST PAIN']].corr()\n",
    "\n",
    "# Calculate the correlation matrix\n",
    "corr_matrix = data.corr()\n",
    "\n",
    "# Create a heatmap using plt.imshow()\n",
    "plt.figure(figsize=(8, 6))\n",
    "plt.imshow(corr_matrix, cmap='cool', alpha = 0.75)\n",
    "plt.colorbar()\n",
    "plt.xticks(range(len(corr_matrix.columns)), corr_matrix.columns, rotation=45)\n",
    "plt.yticks(range(len(corr_matrix.columns)), corr_matrix.columns)\n",
    "plt.title('Correlation Matrix of Iris Features')\n",
    "plt.show()\n",
    "\n",
    "# Output: most commomn sympton is Yellow_Fingers"
   ]
  },
  {
   "cell_type": "code",
   "execution_count": 193,
   "id": "3243b74a-ca77-4376-a039-42f494858ed1",
   "metadata": {},
   "outputs": [
    {
     "data": {
      "text/plain": [
       "0.581504485852312"
      ]
     },
     "execution_count": 193,
     "metadata": {},
     "output_type": "execute_result"
    },
    {
     "data": {
      "text/plain": [
       "0.3071225071225071"
      ]
     },
     "execution_count": 193,
     "metadata": {},
     "output_type": "execute_result"
    },
    {
     "data": {
      "text/plain": [
       "0.47066942719116633"
      ]
     },
     "execution_count": 193,
     "metadata": {},
     "output_type": "execute_result"
    },
    {
     "data": {
      "text/plain": [
       "0.5720797720797721"
      ]
     },
     "execution_count": 193,
     "metadata": {},
     "output_type": "execute_result"
    },
    {
     "data": {
      "text/plain": [
       "0.5937888198757764"
      ]
     },
     "execution_count": 193,
     "metadata": {},
     "output_type": "execute_result"
    },
    {
     "data": {
      "text/plain": [
       "0.5943019943019943"
      ]
     },
     "execution_count": 193,
     "metadata": {},
     "output_type": "execute_result"
    },
    {
     "data": {
      "text/plain": [
       "0.6866804692891649"
      ]
     },
     "execution_count": 193,
     "metadata": {},
     "output_type": "execute_result"
    },
    {
     "data": {
      "text/plain": [
       "0.7447293447293447"
      ]
     },
     "execution_count": 193,
     "metadata": {},
     "output_type": "execute_result"
    },
    {
     "data": {
      "text/plain": [
       "0.37336093857832986"
      ]
     },
     "execution_count": 193,
     "metadata": {},
     "output_type": "execute_result"
    },
    {
     "data": {
      "text/plain": [
       "0.2433048433048433"
      ]
     },
     "execution_count": 193,
     "metadata": {},
     "output_type": "execute_result"
    },
    {
     "data": {
      "text/plain": [
       "0.6248447204968944"
      ]
     },
     "execution_count": 193,
     "metadata": {},
     "output_type": "execute_result"
    },
    {
     "data": {
      "text/plain": [
       "0.6404558404558405"
      ]
     },
     "execution_count": 193,
     "metadata": {},
     "output_type": "execute_result"
    }
   ],
   "source": [
    "#Checking for the proportion of cancer patients who has yellow fingers vs proportion of cancer free patients who has yellow fingers\n",
    "# Reason for check : Corr does not equal causation\n",
    "len(cancer_yes[cancer_yes['YELLOW_FINGERS'] == 1])/len(cancer_yes) #58.2%\n",
    "len(cancer_no[cancer_no['YELLOW_FINGERS'] == 1])/len(cancer_no) #30.7%\n",
    "# I dont think its very a persuasive causation\n",
    "\n",
    "# diff approach: Check for rly convincing causations (aka clear symptons)\n",
    "# WHEEZING\n",
    "len(cancer_yes[cancer_yes['WHEEZING'] == 1])/len(cancer_yes) #58.2%\n",
    "len(cancer_no[cancer_no['WHEEZING'] == 1])/len(cancer_no) #30.7%\n",
    "# COUGHING\n",
    "len(cancer_yes[cancer_yes['COUGHING'] == 1])/len(cancer_yes) #59.39%\n",
    "len(cancer_no[cancer_no['COUGHING'] == 1])/len(cancer_no) #59.43%\n",
    "# SHORTNESS OF BREATH\n",
    "len(cancer_yes[cancer_yes['SHORTNESS OF BREATH'] == 1])/len(cancer_yes) #68.7%\n",
    "len(cancer_no[cancer_no['SHORTNESS OF BREATH'] == 1])/len(cancer_no) #74.5%\n",
    "# SWALLOWING DIFFICULTY\n",
    "len(cancer_yes[cancer_yes['SWALLOWING DIFFICULTY'] == 1])/len(cancer_yes) #37.3%\n",
    "len(cancer_no[cancer_no['SWALLOWING DIFFICULTY'] == 1])/len(cancer_no) #24.3%\n",
    "# CHEST PAIN\n",
    "len(cancer_yes[cancer_yes['CHEST PAIN'] == 1])/len(cancer_yes) #62.5%\n",
    "len(cancer_no[cancer_no['CHEST PAIN'] == 1])/len(cancer_no) #64.0%\n",
    "\n",
    "# nvm, doesnt rly show anything"
   ]
  },
  {
   "cell_type": "code",
   "execution_count": 159,
   "id": "4bcacf4f-0e40-47df-b14f-ea0cf8b4cdcd",
   "metadata": {},
   "outputs": [
    {
     "data": {
      "text/html": [
       "<div>\n",
       "<style scoped>\n",
       "    .dataframe tbody tr th:only-of-type {\n",
       "        vertical-align: middle;\n",
       "    }\n",
       "\n",
       "    .dataframe tbody tr th {\n",
       "        vertical-align: top;\n",
       "    }\n",
       "\n",
       "    .dataframe thead th {\n",
       "        text-align: right;\n",
       "    }\n",
       "</style>\n",
       "<table border=\"1\" class=\"dataframe\">\n",
       "  <thead>\n",
       "    <tr style=\"text-align: right;\">\n",
       "      <th></th>\n",
       "      <th>LUNG_CANCER</th>\n",
       "      <th>SMOKING</th>\n",
       "      <th>ALCOHOL CONSUMING</th>\n",
       "    </tr>\n",
       "  </thead>\n",
       "  <tbody>\n",
       "    <tr>\n",
       "      <th>LUNG_CANCER</th>\n",
       "      <td>NaN</td>\n",
       "      <td>NaN</td>\n",
       "      <td>NaN</td>\n",
       "    </tr>\n",
       "    <tr>\n",
       "      <th>SMOKING</th>\n",
       "      <td>NaN</td>\n",
       "      <td>1.000000</td>\n",
       "      <td>-0.038605</td>\n",
       "    </tr>\n",
       "    <tr>\n",
       "      <th>ALCOHOL CONSUMING</th>\n",
       "      <td>NaN</td>\n",
       "      <td>-0.038605</td>\n",
       "      <td>1.000000</td>\n",
       "    </tr>\n",
       "  </tbody>\n",
       "</table>\n",
       "</div>"
      ],
      "text/plain": [
       "                   LUNG_CANCER   SMOKING  ALCOHOL CONSUMING\n",
       "LUNG_CANCER                NaN       NaN                NaN\n",
       "SMOKING                    NaN  1.000000          -0.038605\n",
       "ALCOHOL CONSUMING          NaN -0.038605           1.000000"
      ]
     },
     "execution_count": 159,
     "metadata": {},
     "output_type": "execute_result"
    }
   ],
   "source": [
    "# Analysis 2 with dataset only containing lung cancer patients\n",
    "cancer_yes[['LUNG_CANCER','SMOKING','ALCOHOL CONSUMING']].corr()\n",
    "# correlation cannot be defined (NA) because when all the values in a column are the same, the SD is zero, which makes correlation undefined"
   ]
  },
  {
   "cell_type": "code",
   "execution_count": 263,
   "id": "06816c4c-3adc-4aaf-bf74-6dee7be8426c",
   "metadata": {},
   "outputs": [
    {
     "data": {
      "text/plain": [
       "AGE\n",
       "44.0     50.000000\n",
       "46.0     77.733990\n",
       "47.0     73.636364\n",
       "48.0     82.758621\n",
       "49.0     74.226804\n",
       "50.0     81.920904\n",
       "51.0     77.419355\n",
       "52.0     83.815029\n",
       "53.0     81.617647\n",
       "54.0     81.761006\n",
       "55.0     80.921053\n",
       "56.0     73.809524\n",
       "57.0     83.589744\n",
       "58.0     82.608696\n",
       "59.0     83.261803\n",
       "60.0     75.555556\n",
       "61.0     78.723404\n",
       "62.0     82.889734\n",
       "63.0     80.991736\n",
       "64.0     75.221239\n",
       "65.0     80.088496\n",
       "66.0     82.587065\n",
       "67.0     77.307692\n",
       "68.0     82.568807\n",
       "69.0     77.692308\n",
       "70.0     82.296651\n",
       "71.0     85.029940\n",
       "72.0     85.405405\n",
       "73.0     78.709677\n",
       "74.0     86.428571\n",
       "75.0     83.108108\n",
       "76.0     83.333333\n",
       "77.0     83.901193\n",
       "78.0     88.000000\n",
       "79.0    100.000000\n",
       "81.0    100.000000\n",
       "Name: count, dtype: float64"
      ]
     },
     "execution_count": 263,
     "metadata": {},
     "output_type": "execute_result"
    },
    {
     "data": {
      "text/plain": [
       "<BarContainer object of 36 artists>"
      ]
     },
     "execution_count": 263,
     "metadata": {},
     "output_type": "execute_result"
    },
    {
     "data": {
      "text/plain": [
       "Text(0.5, 0, 'Age')"
      ]
     },
     "execution_count": 263,
     "metadata": {},
     "output_type": "execute_result"
    },
    {
     "data": {
      "text/plain": [
       "Text(0, 0.5, 'Proportion of Lung Cancer Patients (%)')"
      ]
     },
     "execution_count": 263,
     "metadata": {},
     "output_type": "execute_result"
    },
    {
     "data": {
      "text/plain": [
       "Text(0.5, 1.0, 'Proportion of Lung Cancer Patients by Age Group')"
      ]
     },
     "execution_count": 263,
     "metadata": {},
     "output_type": "execute_result"
    },
    {
     "data": {
      "image/png": "[encoded data removed]",
      "text/plain": [
       "<Figure size 640x480 with 1 Axes>"
      ]
     },
     "metadata": {},
     "output_type": "display_data"
    }
   ],
   "source": [
    "#Proportion of people in each age group with cancer\n",
    "age_counts = cancer[cancer['LUNG_CANCER'] == 1]['AGE'].value_counts().sort_index() \n",
    "age_group_counts = cancer['AGE'].value_counts().sort_index()\n",
    "\n",
    "proportion = (age_counts / age_group_counts) * 100\n",
    "proportion\n",
    "\n",
    "# Visualisation\n",
    "plt.bar(proportion.index, proportion.values)\n",
    "plt.xlabel('Age')\n",
    "plt.ylabel('Proportion of Lung Cancer Patients (%)')\n",
    "plt.title('Proportion of Lung Cancer Patients by Age Group')\n",
    "plt.show()\n",
    "\n",
    "# rising trend? \n",
    "\n",
    "\n",
    "\n",
    "\n",
    "\n",
    "Isolate Cancer - yes & Cancer - no\n",
    "\n",
    "Cancer - yes : 70% have yellow fingers, 30% no yellow \n",
    "Cancer - no : 20% have yellow fingers, 80% no yellow "
   ]
  }
 ],
 "metadata": {
  "kernelspec": {
   "display_name": "Python 3 (ipykernel)",
   "language": "python",
   "name": "python3"
  },
  "language_info": {
   "codemirror_mode": {
    "name": "ipython",
    "version": 3
   },
   "file_extension": ".py",
   "mimetype": "text/x-python",
   "name": "python",
   "nbconvert_exporter": "python",
   "pygments_lexer": "ipython3",
   "version": "3.12.4"
  }
 },
 "nbformat": 4,
 "nbformat_minor": 5
}
