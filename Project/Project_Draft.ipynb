{
 "cells": [
  {
   "cell_type": "markdown",
   "id": "f268cdfa-eb64-4d53-935b-e0c4b0618f76",
   "metadata": {},
   "source": [
    "<p style=\"text-align: center;\"><b>DSA312 Data Science with Python</b></p>\n",
    "<p style=\"text-align: center;\"><b>Group 3: Melvin Yong, Tan Hao Yang, Teo Jun Hao, Isaac Leong, Caleb Ang</b></p>\n",
    "<p style=\"text-align: center;\"><b>Part 1 of Project</b></p>\n",
    "\n",
    "For us to finalise what codes are to be placed into this doc. Report writing done here as well"
   ]
  },
  {
   "cell_type": "markdown",
   "id": "7e712d20-d6eb-4a7c-a855-b15c541a27db",
   "metadata": {},
   "source": [
    "# Table of Contents\n",
    "1. [Introduction](#Section-1:-Introduction)\n",
    "    - [Overview](#Subsection-1.1:-Overview)\n",
    "    - [Goals](#Subsection-1.2:-Goals)\n",
    "2. [Data Analysis](#Section-2:-Data-Analysis)\n",
    "    - [Data Cleaning](#Subsection-2.1:-Data-Cleaning)\n",
    "    - [Data Visualization](#Subsection-2.2:-Data-Visualization)\n"
   ]
  },
  {
   "cell_type": "markdown",
   "id": "922cbc9a-18b3-4f03-abd9-cf2708cd64c2",
   "metadata": {},
   "source": [
    "# Section 1: Introduction\n",
    "(Introduces the project outline and the key statement)\n"
   ]
  },
  {
   "cell_type": "code",
   "execution_count": null,
   "id": "a8726768-daf2-4f11-809e-ae398751fe25",
   "metadata": {},
   "outputs": [],
   "source": []
  },
  {
   "cell_type": "code",
   "execution_count": null,
   "id": "4f22593f-e62f-4761-8e46-87bcecc4cdee",
   "metadata": {},
   "outputs": [],
   "source": []
  },
  {
   "cell_type": "markdown",
   "id": "18dac696-b24d-47ab-a67c-ac084f4de1fd",
   "metadata": {},
   "source": [
    "## Subsection 1.1: Overview\n",
    "## Subsection 1.2: Goals\n",
    "\n",
    "# Section 2: Data Analysis\n",
    "## Subsection 2.1: Data Cleaning\n",
    "## Subsection 2.2: Data Visualization"
   ]
  }
 ],
 "metadata": {
  "kernelspec": {
   "display_name": "Python 3 (ipykernel)",
   "language": "python",
   "name": "python3"
  },
  "language_info": {
   "codemirror_mode": {
    "name": "ipython",
    "version": 3
   },
   "file_extension": ".py",
   "mimetype": "text/x-python",
   "name": "python",
   "nbconvert_exporter": "python",
   "pygments_lexer": "ipython3",
   "version": "3.11.9"
  }
 },
 "nbformat": 4,
 "nbformat_minor": 5
}
