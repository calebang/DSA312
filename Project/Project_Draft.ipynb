{
 "cells": [
  {
   "cell_type": "markdown",
   "id": "f268cdfa-eb64-4d53-935b-e0c4b0618f76",
   "metadata": {},
   "source": [
    "<p style=\"text-align: center;\"><b>DSA312 Data Science with Python</b></p>\n",
    "<p style=\"text-align: center;\"><b>Group 3: Melvin Yong, Tan Hao Yang, Teo Jun Hao, Isaac Leong, Caleb Ang</b></p>\n",
    "<p style=\"text-align: center;\"><b>Part 1 of Project</b></p>\n",
    "\n",
    "For us to finalise what codes are to be placed into this doc. Report writing done here as well"
   ]
  },
  {
   "cell_type": "code",
   "execution_count": 1,
   "id": "444d53f6-234f-40f8-b41b-d1aa3d19829d",
   "metadata": {},
   "outputs": [],
   "source": [
    "from IPython.core.interactiveshell import InteractiveShell\n",
    "InteractiveShell.ast_node_interactivity = \"all\""
   ]
  },
  {
   "cell_type": "code",
   "execution_count": 2,
   "id": "bf788d0d-d5b6-41de-94d3-bbae7e11dbd9",
   "metadata": {},
   "outputs": [],
   "source": [
    "import pandas as pd\n",
    "import matplotlib.pyplot as plt\n",
    "import seaborn as sns"
   ]
  },
  {
   "cell_type": "markdown",
   "id": "af216ad5-4b0d-45a3-a599-aa2ce98d299a",
   "metadata": {},
   "source": [
    "# Understanding dataset"
   ]
  },
  {
   "cell_type": "code",
   "execution_count": 3,
   "id": "a2c41e76-992b-46e5-a91e-1ee74d1d375f",
   "metadata": {},
   "outputs": [],
   "source": [
    "original_df = pd.read_csv(\"lung cancer survey.csv\")"
   ]
  },
  {
   "cell_type": "code",
   "execution_count": 9,
   "id": "9ab282eb-346d-4b24-95c4-b3215a30c938",
   "metadata": {},
   "outputs": [
    {
     "ename": "ModuleNotFoundError",
     "evalue": "No module named 'ydata_profiling'",
     "output_type": "error",
     "traceback": [
      "\u001b[0;31m---------------------------------------------------------------------------\u001b[0m",
      "\u001b[0;31mModuleNotFoundError\u001b[0m                       Traceback (most recent call last)",
      "Cell \u001b[0;32mIn[9], line 2\u001b[0m\n\u001b[1;32m      1\u001b[0m \u001b[38;5;66;03m# ydata profiling on original dataset\u001b[39;00m\n\u001b[0;32m----> 2\u001b[0m \u001b[38;5;28;01mfrom\u001b[39;00m \u001b[38;5;21;01mydata_profiling\u001b[39;00m \u001b[38;5;28;01mimport\u001b[39;00m ProfileReport\n\u001b[1;32m      4\u001b[0m \u001b[38;5;66;03m# Generate the profile report\u001b[39;00m\n\u001b[1;32m      5\u001b[0m profile \u001b[38;5;241m=\u001b[39m ProfileReport(original_df, title\u001b[38;5;241m=\u001b[39m\u001b[38;5;124m\"\u001b[39m\u001b[38;5;124mLung Cancer Dataset Profiling Report\u001b[39m\u001b[38;5;124m\"\u001b[39m, explorative\u001b[38;5;241m=\u001b[39m\u001b[38;5;28;01mTrue\u001b[39;00m)\n",
      "\u001b[0;31mModuleNotFoundError\u001b[0m: No module named 'ydata_profiling'"
     ]
    }
   ],
   "source": [
    "# ydata profiling on original dataset\n",
    "from ydata_profiling import ProfileReport\n",
    "\n",
    "# Generate the profile report\n",
    "profile = ProfileReport(original_df, title=\"Lung Cancer Dataset Profiling Report\", explorative=True)\n",
    "\n",
    "# Export report as HTML\n",
    "# profile.to_file(\"lung_cancer_profile_report.html\")\n",
    "\n",
    "profile.to_notebook_iframe()\n"
   ]
  },
  {
   "cell_type": "code",
   "execution_count": 4,
   "id": "3d9540dd-748f-4870-906e-aaab997a9d18",
   "metadata": {},
   "outputs": [
    {
     "data": {
      "text/html": [
       "<div>\n",
       "<style scoped>\n",
       "    .dataframe tbody tr th:only-of-type {\n",
       "        vertical-align: middle;\n",
       "    }\n",
       "\n",
       "    .dataframe tbody tr th {\n",
       "        vertical-align: top;\n",
       "    }\n",
       "\n",
       "    .dataframe thead th {\n",
       "        text-align: right;\n",
       "    }\n",
       "</style>\n",
       "<table border=\"1\" class=\"dataframe\">\n",
       "  <thead>\n",
       "    <tr style=\"text-align: right;\">\n",
       "      <th></th>\n",
       "      <th>GENDER</th>\n",
       "      <th>AGE</th>\n",
       "      <th>SMOKING</th>\n",
       "      <th>YELLOW_FINGERS</th>\n",
       "      <th>ANXIETY</th>\n",
       "      <th>PEER_PRESSURE</th>\n",
       "      <th>CHRONIC DISEASE</th>\n",
       "      <th>FATIGUE</th>\n",
       "      <th>ALLERGY</th>\n",
       "      <th>WHEEZING</th>\n",
       "      <th>ALCOHOL CONSUMING</th>\n",
       "      <th>COUGHING</th>\n",
       "      <th>SHORTNESS OF BREATH</th>\n",
       "      <th>SWALLOWING DIFFICULTY</th>\n",
       "      <th>CHEST PAIN</th>\n",
       "      <th>LUNG_CANCER</th>\n",
       "    </tr>\n",
       "  </thead>\n",
       "  <tbody>\n",
       "    <tr>\n",
       "      <th>0</th>\n",
       "      <td>0.0</td>\n",
       "      <td>61.0</td>\n",
       "      <td>0.0</td>\n",
       "      <td>0.0</td>\n",
       "      <td>1.0</td>\n",
       "      <td>1.0</td>\n",
       "      <td>0.0</td>\n",
       "      <td>1.0</td>\n",
       "      <td>0.0</td>\n",
       "      <td>0.0</td>\n",
       "      <td>0.0</td>\n",
       "      <td>0.0</td>\n",
       "      <td>1.0</td>\n",
       "      <td>0.0</td>\n",
       "      <td>0.0</td>\n",
       "      <td>1.0</td>\n",
       "    </tr>\n",
       "    <tr>\n",
       "      <th>1</th>\n",
       "      <td>1.0</td>\n",
       "      <td>70.0</td>\n",
       "      <td>1.0</td>\n",
       "      <td>1.0</td>\n",
       "      <td>0.0</td>\n",
       "      <td>0.0</td>\n",
       "      <td>1.0</td>\n",
       "      <td>0.0</td>\n",
       "      <td>1.0</td>\n",
       "      <td>1.0</td>\n",
       "      <td>0.0</td>\n",
       "      <td>1.0</td>\n",
       "      <td>1.0</td>\n",
       "      <td>0.0</td>\n",
       "      <td>0.0</td>\n",
       "      <td>1.0</td>\n",
       "    </tr>\n",
       "    <tr>\n",
       "      <th>2</th>\n",
       "      <td>1.0</td>\n",
       "      <td>59.0</td>\n",
       "      <td>0.0</td>\n",
       "      <td>0.0</td>\n",
       "      <td>0.0</td>\n",
       "      <td>0.0</td>\n",
       "      <td>1.0</td>\n",
       "      <td>1.0</td>\n",
       "      <td>0.0</td>\n",
       "      <td>0.0</td>\n",
       "      <td>0.0</td>\n",
       "      <td>0.0</td>\n",
       "      <td>0.0</td>\n",
       "      <td>0.0</td>\n",
       "      <td>1.0</td>\n",
       "      <td>0.0</td>\n",
       "    </tr>\n",
       "    <tr>\n",
       "      <th>3</th>\n",
       "      <td>1.0</td>\n",
       "      <td>54.0</td>\n",
       "      <td>0.0</td>\n",
       "      <td>0.0</td>\n",
       "      <td>0.0</td>\n",
       "      <td>1.0</td>\n",
       "      <td>0.0</td>\n",
       "      <td>1.0</td>\n",
       "      <td>0.0</td>\n",
       "      <td>1.0</td>\n",
       "      <td>1.0</td>\n",
       "      <td>1.0</td>\n",
       "      <td>1.0</td>\n",
       "      <td>0.0</td>\n",
       "      <td>1.0</td>\n",
       "      <td>1.0</td>\n",
       "    </tr>\n",
       "    <tr>\n",
       "      <th>4</th>\n",
       "      <td>0.0</td>\n",
       "      <td>54.0</td>\n",
       "      <td>1.0</td>\n",
       "      <td>0.0</td>\n",
       "      <td>0.0</td>\n",
       "      <td>1.0</td>\n",
       "      <td>0.0</td>\n",
       "      <td>1.0</td>\n",
       "      <td>1.0</td>\n",
       "      <td>0.0</td>\n",
       "      <td>1.0</td>\n",
       "      <td>0.0</td>\n",
       "      <td>0.0</td>\n",
       "      <td>1.0</td>\n",
       "      <td>0.0</td>\n",
       "      <td>1.0</td>\n",
       "    </tr>\n",
       "    <tr>\n",
       "      <th>...</th>\n",
       "      <td>...</td>\n",
       "      <td>...</td>\n",
       "      <td>...</td>\n",
       "      <td>...</td>\n",
       "      <td>...</td>\n",
       "      <td>...</td>\n",
       "      <td>...</td>\n",
       "      <td>...</td>\n",
       "      <td>...</td>\n",
       "      <td>...</td>\n",
       "      <td>...</td>\n",
       "      <td>...</td>\n",
       "      <td>...</td>\n",
       "      <td>...</td>\n",
       "      <td>...</td>\n",
       "      <td>...</td>\n",
       "    </tr>\n",
       "    <tr>\n",
       "      <th>8996</th>\n",
       "      <td>1.0</td>\n",
       "      <td>62.0</td>\n",
       "      <td>0.0</td>\n",
       "      <td>1.0</td>\n",
       "      <td>1.0</td>\n",
       "      <td>1.0</td>\n",
       "      <td>0.0</td>\n",
       "      <td>1.0</td>\n",
       "      <td>0.0</td>\n",
       "      <td>0.0</td>\n",
       "      <td>0.0</td>\n",
       "      <td>0.0</td>\n",
       "      <td>0.0</td>\n",
       "      <td>1.0</td>\n",
       "      <td>1.0</td>\n",
       "      <td>1.0</td>\n",
       "    </tr>\n",
       "    <tr>\n",
       "      <th>8997</th>\n",
       "      <td>0.0</td>\n",
       "      <td>71.0</td>\n",
       "      <td>1.0</td>\n",
       "      <td>1.0</td>\n",
       "      <td>1.0</td>\n",
       "      <td>0.0</td>\n",
       "      <td>0.0</td>\n",
       "      <td>0.0</td>\n",
       "      <td>1.0</td>\n",
       "      <td>0.0</td>\n",
       "      <td>1.0</td>\n",
       "      <td>1.0</td>\n",
       "      <td>1.0</td>\n",
       "      <td>0.0</td>\n",
       "      <td>1.0</td>\n",
       "      <td>1.0</td>\n",
       "    </tr>\n",
       "    <tr>\n",
       "      <th>8998</th>\n",
       "      <td>1.0</td>\n",
       "      <td>63.0</td>\n",
       "      <td>1.0</td>\n",
       "      <td>0.0</td>\n",
       "      <td>0.0</td>\n",
       "      <td>1.0</td>\n",
       "      <td>0.0</td>\n",
       "      <td>0.0</td>\n",
       "      <td>0.0</td>\n",
       "      <td>0.0</td>\n",
       "      <td>0.0</td>\n",
       "      <td>1.0</td>\n",
       "      <td>1.0</td>\n",
       "      <td>0.0</td>\n",
       "      <td>0.0</td>\n",
       "      <td>0.0</td>\n",
       "    </tr>\n",
       "    <tr>\n",
       "      <th>8999</th>\n",
       "      <td>1.0</td>\n",
       "      <td>70.0</td>\n",
       "      <td>1.0</td>\n",
       "      <td>1.0</td>\n",
       "      <td>0.0</td>\n",
       "      <td>0.0</td>\n",
       "      <td>1.0</td>\n",
       "      <td>1.0</td>\n",
       "      <td>1.0</td>\n",
       "      <td>0.0</td>\n",
       "      <td>1.0</td>\n",
       "      <td>0.0</td>\n",
       "      <td>1.0</td>\n",
       "      <td>0.0</td>\n",
       "      <td>1.0</td>\n",
       "      <td>1.0</td>\n",
       "    </tr>\n",
       "    <tr>\n",
       "      <th>9099</th>\n",
       "      <td>1.0</td>\n",
       "      <td>62.0</td>\n",
       "      <td>0.0</td>\n",
       "      <td>0.0</td>\n",
       "      <td>0.0</td>\n",
       "      <td>1.0</td>\n",
       "      <td>0.0</td>\n",
       "      <td>1.0</td>\n",
       "      <td>1.0</td>\n",
       "      <td>1.0</td>\n",
       "      <td>1.0</td>\n",
       "      <td>0.0</td>\n",
       "      <td>0.0</td>\n",
       "      <td>1.0</td>\n",
       "      <td>0.0</td>\n",
       "      <td>1.0</td>\n",
       "    </tr>\n",
       "  </tbody>\n",
       "</table>\n",
       "<p>9000 rows × 16 columns</p>\n",
       "</div>"
      ],
      "text/plain": [
       "      GENDER   AGE  SMOKING  YELLOW_FINGERS  ANXIETY  PEER_PRESSURE  \\\n",
       "0        0.0  61.0      0.0             0.0      1.0            1.0   \n",
       "1        1.0  70.0      1.0             1.0      0.0            0.0   \n",
       "2        1.0  59.0      0.0             0.0      0.0            0.0   \n",
       "3        1.0  54.0      0.0             0.0      0.0            1.0   \n",
       "4        0.0  54.0      1.0             0.0      0.0            1.0   \n",
       "...      ...   ...      ...             ...      ...            ...   \n",
       "8996     1.0  62.0      0.0             1.0      1.0            1.0   \n",
       "8997     0.0  71.0      1.0             1.0      1.0            0.0   \n",
       "8998     1.0  63.0      1.0             0.0      0.0            1.0   \n",
       "8999     1.0  70.0      1.0             1.0      0.0            0.0   \n",
       "9099     1.0  62.0      0.0             0.0      0.0            1.0   \n",
       "\n",
       "      CHRONIC DISEASE  FATIGUE   ALLERGY   WHEEZING  ALCOHOL CONSUMING  \\\n",
       "0                 0.0       1.0       0.0       0.0                0.0   \n",
       "1                 1.0       0.0       1.0       1.0                0.0   \n",
       "2                 1.0       1.0       0.0       0.0                0.0   \n",
       "3                 0.0       1.0       0.0       1.0                1.0   \n",
       "4                 0.0       1.0       1.0       0.0                1.0   \n",
       "...               ...       ...       ...       ...                ...   \n",
       "8996              0.0       1.0       0.0       0.0                0.0   \n",
       "8997              0.0       0.0       1.0       0.0                1.0   \n",
       "8998              0.0       0.0       0.0       0.0                0.0   \n",
       "8999              1.0       1.0       1.0       0.0                1.0   \n",
       "9099              0.0       1.0       1.0       1.0                1.0   \n",
       "\n",
       "      COUGHING  SHORTNESS OF BREATH  SWALLOWING DIFFICULTY  CHEST PAIN  \\\n",
       "0          0.0                  1.0                    0.0         0.0   \n",
       "1          1.0                  1.0                    0.0         0.0   \n",
       "2          0.0                  0.0                    0.0         1.0   \n",
       "3          1.0                  1.0                    0.0         1.0   \n",
       "4          0.0                  0.0                    1.0         0.0   \n",
       "...        ...                  ...                    ...         ...   \n",
       "8996       0.0                  0.0                    1.0         1.0   \n",
       "8997       1.0                  1.0                    0.0         1.0   \n",
       "8998       1.0                  1.0                    0.0         0.0   \n",
       "8999       0.0                  1.0                    0.0         1.0   \n",
       "9099       0.0                  0.0                    1.0         0.0   \n",
       "\n",
       "      LUNG_CANCER  \n",
       "0             1.0  \n",
       "1             1.0  \n",
       "2             0.0  \n",
       "3             1.0  \n",
       "4             1.0  \n",
       "...           ...  \n",
       "8996          1.0  \n",
       "8997          1.0  \n",
       "8998          0.0  \n",
       "8999          1.0  \n",
       "9099          1.0  \n",
       "\n",
       "[9000 rows x 16 columns]"
      ]
     },
     "execution_count": 4,
     "metadata": {},
     "output_type": "execute_result"
    }
   ],
   "source": [
    "# Data Cleaning\n",
    "df_No_NA = original_df.dropna()  # Remove empty entries\n",
    "final_df = df_No_NA[df_No_NA['AGE'] > 21]   # Remove outlier, 21 y/o\n",
    "\n",
    "final_df"
   ]
  },
  {
   "cell_type": "code",
   "execution_count": 33,
   "id": "a552d514-52c9-4155-b7d1-70af92c943dc",
   "metadata": {},
   "outputs": [
    {
     "name": "stdout",
     "output_type": "stream",
     "text": [
      "            GENDER          AGE      SMOKING  YELLOW_FINGERS      ANXIETY  \\\n",
      "count  9000.000000  9000.000000  9000.000000     9000.000000  9000.000000   \n",
      "mean      0.536333    60.711000     0.521000        0.528000     0.456333   \n",
      "std       0.498706    11.335146     0.499587        0.499243     0.498117   \n",
      "min       0.000000    44.000000     0.000000        0.000000     0.000000   \n",
      "25%       0.000000    48.000000     0.000000        0.000000     0.000000   \n",
      "50%       1.000000    61.000000     1.000000        1.000000     0.000000   \n",
      "75%       1.000000    71.000000     1.000000        1.000000     1.000000   \n",
      "max       1.000000    81.000000     1.000000        1.000000     1.000000   \n",
      "\n",
      "       PEER_PRESSURE  CHRONIC DISEASE     FATIGUE      ALLERGY      WHEEZING  \\\n",
      "count    9000.000000      9000.000000  9000.000000  9000.000000  9000.000000   \n",
      "mean        0.510667         0.465667     0.687667     0.548222     0.490444   \n",
      "std         0.499914         0.498848     0.463471     0.497697     0.499936   \n",
      "min         0.000000         0.000000     0.000000     0.000000     0.000000   \n",
      "25%         0.000000         0.000000     0.000000     0.000000     0.000000   \n",
      "50%         1.000000         0.000000     1.000000     1.000000     0.000000   \n",
      "75%         1.000000         1.000000     1.000000     1.000000     1.000000   \n",
      "max         1.000000         1.000000     1.000000     1.000000     1.000000   \n",
      "\n",
      "       ALCOHOL CONSUMING     COUGHING  SHORTNESS OF BREATH  \\\n",
      "count        9000.000000  9000.000000          9000.000000   \n",
      "mean            0.525222     0.593889             0.698000   \n",
      "std             0.499391     0.491133             0.459151   \n",
      "min             0.000000     0.000000             0.000000   \n",
      "25%             0.000000     0.000000             0.000000   \n",
      "50%             1.000000     1.000000             1.000000   \n",
      "75%             1.000000     1.000000             1.000000   \n",
      "max             1.000000     1.000000             1.000000   \n",
      "\n",
      "       SWALLOWING DIFFICULTY   CHEST PAIN  LUNG_CANCER  \n",
      "count            9000.000000  9000.000000  9000.000000  \n",
      "mean                0.348000     0.627889     0.805000  \n",
      "std                 0.476362     0.483395     0.396223  \n",
      "min                 0.000000     0.000000     0.000000  \n",
      "25%                 0.000000     0.000000     1.000000  \n",
      "50%                 0.000000     1.000000     1.000000  \n",
      "75%                 1.000000     1.000000     1.000000  \n",
      "max                 1.000000     1.000000     1.000000  \n"
     ]
    }
   ],
   "source": [
    "# Summary statistics of cleaned dataset\n",
    "print(final_df.describe())"
   ]
  },
  {
   "cell_type": "code",
   "execution_count": 25,
   "id": "99467114-430c-4826-bdc6-3ffa586e0090",
   "metadata": {},
   "outputs": [
    {
     "data": {
      "text/plain": [
       "<Figure size 1000x600 with 0 Axes>"
      ]
     },
     "execution_count": 25,
     "metadata": {},
     "output_type": "execute_result"
    },
    {
     "data": {
      "text/plain": [
       "(array([1.000e+00, 0.000e+00, 0.000e+00, 2.000e+00, 2.530e+03, 9.740e+02,\n",
       "        1.380e+03, 1.373e+03, 1.116e+03, 1.625e+03]),\n",
       " array([21., 27., 33., 39., 45., 51., 57., 63., 69., 75., 81.]),\n",
       " <BarContainer object of 10 artists>)"
      ]
     },
     "execution_count": 25,
     "metadata": {},
     "output_type": "execute_result"
    },
    {
     "data": {
      "text/plain": [
       "Text(0.5, 1.0, 'Histogram of Patient Ages')"
      ]
     },
     "execution_count": 25,
     "metadata": {},
     "output_type": "execute_result"
    },
    {
     "data": {
      "text/plain": [
       "Text(0.5, 0, 'Age')"
      ]
     },
     "execution_count": 25,
     "metadata": {},
     "output_type": "execute_result"
    },
    {
     "data": {
      "text/plain": [
       "Text(0, 0.5, 'Frequency')"
      ]
     },
     "execution_count": 25,
     "metadata": {},
     "output_type": "execute_result"
    },
    {
     "data": {
      "text/plain": [
       "[<matplotlib.lines.Line2D at 0x168ac5be0>]"
      ]
     },
     "execution_count": 25,
     "metadata": {},
     "output_type": "execute_result"
    },
    {
     "data": {
      "text/plain": [
       "Text(0.5, 1.0, 'Age Distribution')"
      ]
     },
     "execution_count": 25,
     "metadata": {},
     "output_type": "execute_result"
    },
    {
     "data": {
      "text/plain": [
       "Text(0.5, 0, 'Age')"
      ]
     },
     "execution_count": 25,
     "metadata": {},
     "output_type": "execute_result"
    },
    {
     "data": {
      "text/plain": [
       "Text(0, 0.5, 'Frequency')"
      ]
     },
     "execution_count": 25,
     "metadata": {},
     "output_type": "execute_result"
    },
    {
     "data": {
      "image/png": "[encoded data removed]",
      "text/plain": [
       "<Figure size 1000x600 with 1 Axes>"
      ]
     },
     "metadata": {},
     "output_type": "display_data"
    }
   ],
   "source": [
    "# Data visualisation\n",
    "# Plot Histogram\n",
    "plt.figure(figsize=(10, 6))\n",
    "plt.hist(df_No_NA['AGE'])\n",
    "plt.title('Histogram of Patient Ages')\n",
    "plt.xlabel('Age')\n",
    "plt.ylabel('Frequency')\n",
    "plt.grid(True)\n",
    "\n",
    "# Count the frequency of each age\n",
    "age_counts = df_No_NA['AGE'].value_counts().sort_index()\n",
    "\n",
    "# Plot a line graph of the age counts\n",
    "plt.plot(age_counts.index, age_counts.values, marker='o')\n",
    "plt.title('Age Distribution')\n",
    "plt.xlabel('Age')\n",
    "plt.ylabel('Frequency')\n",
    "plt.show()"
   ]
  },
  {
   "cell_type": "code",
   "execution_count": null,
   "id": "a8726768-daf2-4f11-809e-ae398751fe25",
   "metadata": {},
   "outputs": [],
   "source": [
    "# Clustering method # DO NOT RUN\n",
    "from kmodes.kprototypes import KPrototypes\n",
    "\n",
    "# Define the indices of the numerical and categorical features\n",
    "cat_cols = [0,2,3,4,5,6,7,8,9,10,11,12,13,14,15]\n",
    "num_cols = [1] # AGE\n",
    "\n",
    "# Calculate cost for different cluster numbers\n",
    "costs = []\n",
    "for num_clusters in range(1, 10): # From 1 to 9\n",
    "    kproto = KPrototypes(n_clusters=num_clusters, init='Cao', n_init=5, verbose=2)\n",
    "    kproto.fit_predict(final_df, categorical= cat_cols)\n",
    "    costs.append(kproto.cost_)\n",
    "\n",
    "# Plot the elbow curve, selection of optimal number of cluster via graphical approach\n",
    "plt.plot(range(1, 10), costs, marker='o')\n",
    "plt.title('Elbow Method for Optimal Clusters')\n",
    "plt.xlabel('Number of Clusters')\n",
    "plt.ylabel('Cost')\n",
    "plt.show();"
   ]
  },
  {
   "cell_type": "code",
   "execution_count": null,
   "id": "4f22593f-e62f-4761-8e46-87bcecc4cdee",
   "metadata": {},
   "outputs": [],
   "source": [
    "# Fit K-Prototypes model\n",
    "# Create the final_df with cluster\n",
    "from kmodes.kprototypes import KPrototypes\n",
    "\n",
    "# Define the indices of the numerical and categorical features\n",
    "cat_cols = [0,2,3,4,5,6,7,8,9,10,11,12,13,14,15]\n",
    "num_cols = [1]\n",
    "kproto = KPrototypes(n_clusters=2, init='Cao', verbose=2, random_state=42)\n",
    "clusters = kproto.fit_predict(final_df, categorical=cat_cols)\n",
    "\n",
    "final_df = final_df.copy()\n",
    "# Assign cluster labels to the DataFrame\n",
    "final_df['cluster'] = clusters\n",
    "\n",
    "# See how clusters are grouped\n",
    "age_cluster_summary = final_df.groupby('cluster')['AGE'].agg(['min', 'max'])\n",
    "print(age_cluster_summary) # We see here, we have grouped cluster = 0 as age 61 to 81, and cluster = 1 as age 44 to 60.\n",
    "\n",
    "# Invert cluster such that 1: Senior, 0: Middle-aged\n",
    "final_df['cluster'] = 1 - final_df['cluster']\n",
    "\n",
    "final_df['cluster'].value_counts() # Each clusters are approximately similarly in number of observation."
   ]
  },
  {
   "cell_type": "markdown",
   "id": "211bc512-5d7b-4866-a1d7-187d404268b7",
   "metadata": {},
   "source": [
    "# Smoking"
   ]
  },
  {
   "cell_type": "code",
   "execution_count": null,
   "id": "e84ff08c-f03e-40e7-b0aa-7dc1be678204",
   "metadata": {},
   "outputs": [],
   "source": [
    "contingency_smoking = pd.crosstab(final_df['SMOKING'], final_df['LUNG_CANCER'])\n",
    "contingency_smoking['Proportion_Cancer'] = contingency_smoking[1] / (contingency_smoking[0] + contingency_smoking[1])\n",
    "\n",
    "\n",
    "proportions_smoking = contingency_smoking['Proportion_Cancer']\n",
    "non_cancer_smoking = 1 - proportions_smoking\n",
    "\n",
    "\n",
    "plt.figure(figsize=(8, 4))\n",
    "sns.set_theme(style=\"whitegrid\")\n",
    "y_labels_smoking = ['Non-Smoker', 'Smoker']\n",
    "bar_width = 0.3 #change the width for a better fit figure\n",
    "#create horizontal bar chart for cancer patients who smoke/do not smoke using labels above and sns pastel color palette\n",
    "bars_lung_cancer_smoking = plt.barh(y_labels_smoking, proportions_smoking, color=sns.color_palette(\"pastel\", 2), height=bar_width)\n",
    "#create horizontal bar chart for cancer patients who smoke/ do not smoke using labels above and sns pastel color palette\n",
    "bars_no_cancer_smoking = plt.barh(y_labels_smoking, non_cancer_smoking, color='lightgrey', left=proportions_smoking, height=bar_width)\n",
    "\n",
    "plt.title('Proportion of Lung Cancer Cases by Smoking Status', fontsize=16)\n",
    "plt.xlabel('Proportion', fontsize=14)\n",
    "plt.xlim(0, 1) \n",
    "plt.ylim(-0.5, 1.5)\n",
    "\n",
    "#to annotate the % of cancer patients for smoker and non-smoker group\n",
    "for index, value in enumerate(proportions_smoking):\n",
    "    plt.text(value - 0.4, index, f\"{value*100:.2f}%\", va='center', fontsize=12, color='black') \n",
    "\n",
    "plt.show()"
   ]
  },
  {
   "cell_type": "markdown",
   "id": "560d16b4-28d3-4ea3-b7d5-d97a61589e28",
   "metadata": {},
   "source": [
    "# Yellow Fingers"
   ]
  },
  {
   "cell_type": "code",
   "execution_count": null,
   "id": "74268e9b-a7ed-4d79-9b6a-3f732bea51db",
   "metadata": {},
   "outputs": [],
   "source": [
    "contingency_yellowfingers = pd.crosstab(final_df['YELLOW_FINGERS'], final_df['LUNG_CANCER'])\n",
    "contingency_yellowfingers['Proportion_Cancer'] = contingency_yellowfingers[1] / (contingency_yellowfingers[0] + contingency_yellowfingers[1])\n",
    "\n",
    "proportions_yellowfingers = contingency_yellowfingers['Proportion_Cancer']\n",
    "non_cancer_yellowfingers = 1 - proportions_yellowfingers\n",
    "\n",
    "plt.figure(figsize=(8, 4))\n",
    "sns.set_theme(style=\"whitegrid\") \n",
    "y_labels_yellowfingers = ['No Yellow Fingers', 'Yellow Fingers']\n",
    "bar_width = 0.3 \n",
    "#create horizontal bar chart for cancer patients with or without yellow fingers using labels above and sns pastel color palette\n",
    "bars_lung_cancer_yellowfingers = plt.barh(y_labels_yellowfingers, proportions_yellowfingers, color=['#FFCC99','#FF9999'], height=bar_width, label='Lung Cancer')\n",
    "#create horizontal bar chart for non-cancer patients with or without yellow fingers using labels above and sns pastel color palette\n",
    "bars_no_cancer_yellowfingers = plt.barh(y_labels_yellowfingers, non_cancer_yellowfingers, color='lightgrey', left=proportions_yellowfingers, height=bar_width, label='No Lung Cancer')\n",
    "\n",
    "plt.title('Proportion of Lung Cancer Cases by Presence Of Yellow Fingers', fontsize=16)\n",
    "plt.xlabel('Proportion', fontsize=14)\n",
    "plt.xlim(0, 1) \n",
    "plt.ylim(-0.5, 1.5)\n",
    "\n",
    "#annotate % of cancer patients for yellow finger and non-yellow finger group\n",
    "for index, value in enumerate(proportions_yellowfingers):\n",
    "    plt.text(value - 0.4, index, f\"{value*100:.2f}%\", va='center', fontsize=12, color='black') \n",
    "\n",
    "plt.show()"
   ]
  },
  {
   "cell_type": "markdown",
   "id": "d02782eb-59bb-4ee5-a1f2-380daead293c",
   "metadata": {},
   "source": [
    "# Alcohol Consumption"
   ]
  },
  {
   "cell_type": "code",
   "execution_count": 10,
   "id": "acedd60a-5162-4846-89f6-46cb4edda81d",
   "metadata": {},
   "outputs": [
    {
     "data": {
      "text/plain": [
       "<Figure size 800x400 with 0 Axes>"
      ]
     },
     "execution_count": 10,
     "metadata": {},
     "output_type": "execute_result"
    },
    {
     "data": {
      "text/plain": [
       "Text(0.5, 1.0, 'Proportion of Lung Cancer Cases by Drinking Status')"
      ]
     },
     "execution_count": 10,
     "metadata": {},
     "output_type": "execute_result"
    },
    {
     "data": {
      "text/plain": [
       "Text(0.5, 0, 'Proportion')"
      ]
     },
     "execution_count": 10,
     "metadata": {},
     "output_type": "execute_result"
    },
    {
     "data": {
      "text/plain": [
       "(0.0, 1.0)"
      ]
     },
     "execution_count": 10,
     "metadata": {},
     "output_type": "execute_result"
    },
    {
     "data": {
      "text/plain": [
       "(-0.5, 1.5)"
      ]
     },
     "execution_count": 10,
     "metadata": {},
     "output_type": "execute_result"
    },
    {
     "data": {
      "text/plain": [
       "Text(0.31846477884390356, 0, '71.85%')"
      ]
     },
     "execution_count": 10,
     "metadata": {},
     "output_type": "execute_result"
    },
    {
     "data": {
      "text/plain": [
       "Text(0.4832240321557013, 1, '88.32%')"
      ]
     },
     "execution_count": 10,
     "metadata": {},
     "output_type": "execute_result"
    },
    {
     "data": {
      "image/png": "[encoded data removed]",
      "text/plain": [
       "<Figure size 800x400 with 1 Axes>"
      ]
     },
     "metadata": {},
     "output_type": "display_data"
    }
   ],
   "source": [
    "contingency_alcohol = pd.crosstab(final_df['ALCOHOL CONSUMING'], final_df['LUNG_CANCER'])\n",
    "contingency_alcohol['Proportion_Cancer'] = contingency_alcohol[1] / (contingency_alcohol[0] + contingency_alcohol[1])\n",
    "\n",
    "proportions_alcohol = contingency_alcohol['Proportion_Cancer']\n",
    "non_cancer_alcohol = 1 - proportions_alcohol\n",
    "\n",
    "plt.figure(figsize=(8, 4))\n",
    "sns.set_theme(style=\"whitegrid\") \n",
    "y_labels_alcohol = ['Non-Alcohol Consuming', 'Alcohol Consuming']\n",
    "bar_width = 0.3 \n",
    "#create horizontal bar chart for cancer patients who drink/do not drink using labels above and sns pastel color palette\n",
    "bars_lung_cancer_alcohol = plt.barh(y_labels_alcohol, proportions_alcohol, color=['#58d68d', '#d2b4de'], height=bar_width, label='Lung Cancer')\n",
    "#create horizontal bar chart for non-cancer patient who drink/do not drink using labels above and sns pastel color palette\n",
    "bars_no_cancer_alcohol = plt.barh(y_labels_alcohol, non_cancer_alcohol, color='lightgrey', left=proportions_alcohol, height=bar_width, label='No Lung Cancer')\n",
    "\n",
    "plt.title('Proportion of Lung Cancer Cases by Drinking Status', fontsize=16)\n",
    "plt.xlabel('Proportion', fontsize=14)\n",
    "plt.xlim(0, 1) \n",
    "plt.ylim(-0.5, 1.5)\n",
    "\n",
    "#annotate % of cancer patients for drinkers and non-drinkers group\n",
    "for index, value in enumerate(proportions_alcohol):\n",
    "    plt.text(value - 0.4, index, f\"{value*100:.2f}%\", va='center', fontsize=12, color='black') \n",
    "\n",
    "plt.show()"
   ]
  },
  {
   "cell_type": "code",
   "execution_count": null,
   "id": "b069f749-1514-48a7-8e0e-6d87e46a9526",
   "metadata": {},
   "outputs": [],
   "source": [
    "final_df[['LUNG_CANCER','SMOKING', 'YELLOW_FINGERS', 'ALCOHOL CONSUMING']].corr()"
   ]
  },
  {
   "cell_type": "markdown",
   "id": "7474dbea-876d-4bb3-8822-7b27ab019211",
   "metadata": {},
   "source": [
    "# Analysis on having multiple lifestyle habits"
   ]
  },
  {
   "cell_type": "code",
   "execution_count": null,
   "id": "d71fd39a-80b5-4208-9601-98f565c79eb7",
   "metadata": {},
   "outputs": [],
   "source": [
    "contingency_table_combinations = pd.crosstab([final_df['SMOKING'], final_df['YELLOW_FINGERS'], final_df['ALCOHOL CONSUMING']], final_df['LUNG_CANCER'])\n",
    "contingency_table_combinations['Proportion_Cancer'] = contingency_table_combinations[1] / (contingency_table_combinations[0] + contingency_table_combinations[1])\n",
    "\n",
    "contingency_table_combinations.sort_values(by='Proportion_Cancer', inplace=True) \n",
    "labels = ['None','Smoking only','Alcohol only','Yellow Fingers only','Smoking+Yellow fingers','Smoking+Alcohol','Yellow fingers +Alcohol','Smoking+Yellow fingers +Alcohol']\n",
    "\n",
    "plt.figure(figsize=(10, 6))\n",
    "sns.set_theme(style=\"whitegrid\") \n",
    "\n",
    "bar_width = 0.3\n",
    "bars = plt.barh(labels, contingency_table_combinations['Proportion_Cancer'], color=sns.color_palette(\"pastel\", 8), height=bar_width)\n",
    "\n",
    "plt.title('Proportion of Lung Cancer by Lifestyle Factors', fontsize=16) \n",
    "plt.xlabel('Proportion', fontsize=14)\n",
    "plt.xlim(0, 1)\n",
    "\n",
    "# annotate % of cancer patients for each combination\n",
    "for index, value in enumerate(contingency_table_combinations['Proportion_Cancer']):\n",
    "    plt.text(value + 0.02, index, f\"{value*100:.2f}%\", va='center', fontsize=12, color='black') \n",
    "\n",
    "plt.show()"
   ]
  },
  {
   "cell_type": "markdown",
   "id": "724da6e1-6fa7-488b-8396-fc9dba3a1030",
   "metadata": {},
   "source": [
    "# Analysis on lifestyle habits by subgroups"
   ]
  },
  {
   "cell_type": "code",
   "execution_count": null,
   "id": "d79588d6-9514-4b9e-b1bc-3fddc53a7df6",
   "metadata": {},
   "outputs": [],
   "source": [
    "# Showcase K modes clustering graphically\n",
    "import matplotlib.pyplot as plt\n",
    "import numpy as np\n",
    "\n",
    "# Simulating data for 3 clusters\n",
    "np.random.seed(42)\n",
    "\n",
    "# Cluster 1: Low cost \n",
    "cluster_1_x = np.random.normal(1, 0.2, 20)\n",
    "cluster_1_y = np.random.normal(1, 0.2, 20)\n",
    "\n",
    "# Cluster 2: High cost\n",
    "cluster_2_x = np.random.normal(5, 0.8, 20)\n",
    "cluster_2_y = np.random.normal(5, 0.8, 20)\n",
    "\n",
    "# Cluster 3: Low cost\n",
    "cluster_3_x = np.random.normal(9, 0.2, 20)\n",
    "cluster_3_y = np.random.normal(1, 0.2, 20)\n",
    "\n",
    "# Plotting\n",
    "plt.figure(figsize=(8, 6))\n",
    "\n",
    "# Plot Cluster 1\n",
    "plt.scatter(cluster_1_x, cluster_1_y, color='blue', label='Low Cost (Cluster 1)')\n",
    "plt.annotate('Low Cost', (1, 1), textcoords=\"offset points\", xytext=(10,10), ha='center')\n",
    "\n",
    "# Plot Cluster 2\n",
    "plt.scatter(cluster_2_x, cluster_2_y, color='red', label='High Cost (Cluster 2)')\n",
    "plt.annotate('High Cost', (5, 5), textcoords=\"offset points\", xytext=(10,10), ha='center')\n",
    "\n",
    "# Plot Cluster 3\n",
    "plt.scatter(cluster_3_x, cluster_3_y, color='green', label='Low Cost (Cluster 3)')\n",
    "plt.annotate('Low Cost', (9, 1), textcoords=\"offset points\", xytext=(10,10), ha='center')\n",
    "\n",
    "# Adding some center points for visual aid (centers of clusters)\n",
    "plt.scatter([1, 5, 9], [1, 5, 1], color='black', marker='x', s=100, label='Cluster Centers')\n",
    "\n",
    "# Annotations for distance (Cost)\n",
    "plt.arrow(5.5, 5.5, -0.5, -0.5, head_width=0.2, color='gray')\n",
    "plt.annotate('Cost (Distance)', (5.5, 5.5), textcoords=\"offset points\", xytext=(20,-10), ha='center')\n",
    "\n",
    "# Setting the labels\n",
    "plt.title('Clustering and Cost Visualization')\n",
    "plt.xlabel('X')\n",
    "plt.ylabel('Y')\n",
    "plt.legend()\n",
    "\n",
    "# Show the plot\n",
    "plt.grid(True)\n",
    "plt.show()"
   ]
  },
  {
   "cell_type": "code",
   "execution_count": null,
   "id": "e14147fa-8072-4dd4-8581-3384e6ff2cd1",
   "metadata": {},
   "outputs": [],
   "source": [
    "import matplotlib.pyplot as plt\n",
    "\n",
    "# Separate the dataset and drop cluster\n",
    "middle = final_df[final_df[\"cluster\"]== 0]\n",
    "senior = final_df[final_df[\"cluster\"]== 1]\n",
    "middle = middle.drop(\"cluster\", axis = 1)\n",
    "senior = senior.drop(\"cluster\", axis = 1)\n",
    "\n",
    "# Calculate correlations between Lung Cancer and other variables for middle-aged and senior groups\n",
    "middle_corr = middle.corr()['LUNG_CANCER'].drop('LUNG_CANCER')\n",
    "senior_corr = senior.corr()['LUNG_CANCER'].drop('LUNG_CANCER')\n",
    "\n",
    "# Create a DataFrame to store correlations\n",
    "correlation_df = pd.DataFrame({\n",
    "    'Middle Age': middle_corr,\n",
    "    'Senior': senior_corr\n",
    "})\n",
    "\n",
    "# Plotting bar chart for each symptom\n",
    "correlation_df.plot(kind='bar', figsize=(12, 8))\n",
    "\n",
    "# Add labels and title\n",
    "plt.xlabel('Symptoms')\n",
    "plt.ylabel('Correlation with Lung Cancer')\n",
    "plt.title('Comparison of Correlation with Lung Cancer: Middle Age vs Senior')\n",
    "plt.xticks(rotation=45, ha='right')\n",
    "plt.grid(True, axis = 'y')\n",
    "\n",
    "# Show the plot\n",
    "plt.tight_layout()\n",
    "plt.show()"
   ]
  },
  {
   "cell_type": "code",
   "execution_count": null,
   "id": "59ab10f8-9eaa-4431-ada0-698fedd4ea1e",
   "metadata": {},
   "outputs": [],
   "source": [
    "import numpy as np\n",
    "import pandas as pd\n",
    "import statsmodels.api as sm \n",
    "\n",
    "# Logistics regression on whole data \n",
    "x = final_df.drop(labels =[\"LUNG_CANCER\", \"AGE\"], axis = 1)\n",
    "y = final_df[\"LUNG_CANCER\"]\n",
    "\n",
    "# Add a constant to the model (for the intercept)\n",
    "X = sm.add_constant(x)\n",
    "\n",
    "# Fit the logistic regression model using statsmodels \n",
    "logit_model = sm.Logit(y, X)\n",
    "result = logit_model.fit()\n",
    "\n",
    "# Print summary of the model\n",
    "print(f\"Whole dataset: {result.summary()}\")\n",
    "\n",
    "# Logistics regression on middle age\n",
    "x = middle.drop(labels =[\"LUNG_CANCER\", \"AGE\"], axis = 1)\n",
    "y = middle[\"LUNG_CANCER\"]\n",
    "\n",
    "# Add a constant to the model (for the intercept)\n",
    "X = sm.add_constant(x)\n",
    "\n",
    "# Fit the logistic regression model using statsmodels \n",
    "logit_model = sm.Logit(y, X)\n",
    "result = logit_model.fit()\n",
    "\n",
    "# Print summary of the model\n",
    "print(f\"Middle-age dataset: {result.summary()}\")\n",
    "\n",
    "# Logistics regression on senior\n",
    "x = senior.drop(labels =[\"LUNG_CANCER\", \"AGE\"], axis = 1)\n",
    "y = senior[\"LUNG_CANCER\"]\n",
    "\n",
    "# Add a constant to the model (for the intercept)\n",
    "X = sm.add_constant(x)\n",
    "\n",
    "# Fit the logistic regression model using statsmodels \n",
    "logit_model = sm.Logit(y, X)\n",
    "result = logit_model.fit()\n",
    "\n",
    "# Print summary of the model\n",
    "print(f\"Senior dataset: {result.summary()}\")\n"
   ]
  },
  {
   "cell_type": "code",
   "execution_count": null,
   "id": "0ea8aef6-4f24-4133-ada9-6a15bf8c07bf",
   "metadata": {},
   "outputs": [],
   "source": [
    "# SUBGROUP-GENDER\n",
    "# Split gender dataframes\n",
    "female = final_df[final_df['GENDER']==0]\n",
    "male = final_df[final_df['GENDER']==1]\n",
    "female = female.drop(\"GENDER\", axis = 1)\n",
    "male = male.drop(\"GENDER\", axis = 1)\n",
    "\n",
    "# Calculate correlations between Lung Cancer and other variables for middle-aged and senior groups\n",
    "female_corr = female.corr()['LUNG_CANCER'].drop('LUNG_CANCER')\n",
    "male_corr = male.corr()['LUNG_CANCER'].drop('LUNG_CANCER')\n",
    "\n",
    "# Create a DataFrame to store correlations\n",
    "correlation_df = pd.DataFrame({\n",
    "    'Female': female_corr,\n",
    "    'Male': male_corr\n",
    "})\n",
    "\n",
    "# Plotting bar chart for each symptom\n",
    "correlation_df.plot(kind='bar', figsize=(12, 8))\n",
    "\n",
    "# Add labels and title\n",
    "plt.xlabel('Symptoms')\n",
    "plt.ylabel('Correlation with Lung Cancer')\n",
    "plt.title('Comparison of Correlation with Lung Cancer: Female vs Male')\n",
    "plt.xticks(rotation=45, ha='right')\n",
    "plt.grid(True, axis = 'y')\n",
    "\n",
    "# Show the plot\n",
    "plt.tight_layout()\n",
    "plt.show()\n"
   ]
  },
  {
   "cell_type": "markdown",
   "id": "5d10d137",
   "metadata": {},
   "source": [
    "Subgroup Proportions Analysis"
   ]
  },
  {
   "cell_type": "markdown",
   "id": "8954e829",
   "metadata": {},
   "source": [
    "Split dataset into men and women:"
   ]
  },
  {
   "cell_type": "code",
   "execution_count": 5,
   "id": "75ce980d",
   "metadata": {},
   "outputs": [],
   "source": [
    "final_df_women = final_df[final_df[\"GENDER\"] == 0]\n",
    "final_df_men = final_df[final_df[\"GENDER\"] == 1]"
   ]
  },
  {
   "cell_type": "markdown",
   "id": "ec0d22ab",
   "metadata": {},
   "source": [
    "Analyses for men"
   ]
  },
  {
   "cell_type": "code",
   "execution_count": 11,
   "id": "b3762fd1",
   "metadata": {},
   "outputs": [
    {
     "data": {
      "text/plain": [
       "<Figure size 800x400 with 0 Axes>"
      ]
     },
     "execution_count": 11,
     "metadata": {},
     "output_type": "execute_result"
    },
    {
     "data": {
      "text/plain": [
       "Text(0.5, 1.0, 'Men: Proportion of Lung Cancer Cases by Smoking Status')"
      ]
     },
     "execution_count": 11,
     "metadata": {},
     "output_type": "execute_result"
    },
    {
     "data": {
      "text/plain": [
       "Text(0.5, 0, 'Proportion')"
      ]
     },
     "execution_count": 11,
     "metadata": {},
     "output_type": "execute_result"
    },
    {
     "data": {
      "text/plain": [
       "(0.0, 1.0)"
      ]
     },
     "execution_count": 11,
     "metadata": {},
     "output_type": "execute_result"
    },
    {
     "data": {
      "text/plain": [
       "(-0.5, 1.5)"
      ]
     },
     "execution_count": 11,
     "metadata": {},
     "output_type": "execute_result"
    },
    {
     "data": {
      "text/plain": [
       "Text(0.32058194266153184, 0, '72.06%')"
      ]
     },
     "execution_count": 11,
     "metadata": {},
     "output_type": "execute_result"
    },
    {
     "data": {
      "text/plain": [
       "Text(0.38353413654618473, 1, '78.35%')"
      ]
     },
     "execution_count": 11,
     "metadata": {},
     "output_type": "execute_result"
    },
    {
     "data": {
      "image/png": "[encoded data removed]",
      "text/plain": [
       "<Figure size 800x400 with 1 Axes>"
      ]
     },
     "metadata": {},
     "output_type": "display_data"
    },
    {
     "data": {
      "text/plain": [
       "<Figure size 800x400 with 0 Axes>"
      ]
     },
     "execution_count": 11,
     "metadata": {},
     "output_type": "execute_result"
    },
    {
     "data": {
      "text/plain": [
       "Text(0.5, 1.0, 'Proportion of Lung Cancer Cases by Presence Of Yellow Fingers')"
      ]
     },
     "execution_count": 11,
     "metadata": {},
     "output_type": "execute_result"
    },
    {
     "data": {
      "text/plain": [
       "Text(0.5, 0, 'Proportion')"
      ]
     },
     "execution_count": 11,
     "metadata": {},
     "output_type": "execute_result"
    },
    {
     "data": {
      "text/plain": [
       "(0.0, 1.0)"
      ]
     },
     "execution_count": 11,
     "metadata": {},
     "output_type": "execute_result"
    },
    {
     "data": {
      "text/plain": [
       "(-0.5, 1.5)"
      ]
     },
     "execution_count": 11,
     "metadata": {},
     "output_type": "execute_result"
    },
    {
     "data": {
      "text/plain": [
       "Text(0.22297872340425529, 0, '62.30%')"
      ]
     },
     "execution_count": 11,
     "metadata": {},
     "output_type": "execute_result"
    },
    {
     "data": {
      "text/plain": [
       "Text(0.47646346386758176, 1, '87.65%')"
      ]
     },
     "execution_count": 11,
     "metadata": {},
     "output_type": "execute_result"
    },
    {
     "data": {
      "image/png": "[encoded data removed]",
      "text/plain": [
       "<Figure size 800x400 with 1 Axes>"
      ]
     },
     "metadata": {},
     "output_type": "display_data"
    },
    {
     "data": {
      "text/plain": [
       "<Figure size 800x400 with 0 Axes>"
      ]
     },
     "execution_count": 11,
     "metadata": {},
     "output_type": "execute_result"
    },
    {
     "data": {
      "text/plain": [
       "Text(0.5, 1.0, 'Proportion of Lung Cancer Cases by Drinking Status')"
      ]
     },
     "execution_count": 11,
     "metadata": {},
     "output_type": "execute_result"
    },
    {
     "data": {
      "text/plain": [
       "Text(0.5, 0, 'Proportion')"
      ]
     },
     "execution_count": 11,
     "metadata": {},
     "output_type": "execute_result"
    },
    {
     "data": {
      "text/plain": [
       "(0.0, 1.0)"
      ]
     },
     "execution_count": 11,
     "metadata": {},
     "output_type": "execute_result"
    },
    {
     "data": {
      "text/plain": [
       "(-0.5, 1.5)"
      ]
     },
     "execution_count": 11,
     "metadata": {},
     "output_type": "execute_result"
    },
    {
     "data": {
      "text/plain": [
       "Text(0.21562925942753297, 0, '61.56%')"
      ]
     },
     "execution_count": 11,
     "metadata": {},
     "output_type": "execute_result"
    },
    {
     "data": {
      "text/plain": [
       "Text(0.46824067022086824, 1, '86.82%')"
      ]
     },
     "execution_count": 11,
     "metadata": {},
     "output_type": "execute_result"
    },
    {
     "data": {
      "image/png": "[encoded data removed]",
      "text/plain": [
       "<Figure size 800x400 with 1 Axes>"
      ]
     },
     "metadata": {},
     "output_type": "display_data"
    }
   ],
   "source": [
    "#SMOKING\n",
    "contingency_smoking_men = pd.crosstab(final_df_men['SMOKING'], final_df_men['LUNG_CANCER'])\n",
    "contingency_smoking_men['Proportion_Cancer'] = contingency_smoking_men[1] / (contingency_smoking_men[0] + contingency_smoking_men[1])\n",
    "\n",
    "\n",
    "proportions_smoking_men = contingency_smoking_men['Proportion_Cancer']\n",
    "non_cancer_smoking_men = 1 - proportions_smoking_men\n",
    "\n",
    "\n",
    "plt.figure(figsize=(8, 4))\n",
    "sns.set_theme(style=\"whitegrid\")\n",
    "y_labels_smoking = ['Non-Smoker', 'Smoker']\n",
    "bar_width = 0.3 #change the width for a better fit figure\n",
    "#create horizontal bar chart for cancer patients who smoke/do not smoke using labels above and sns pastel color palette\n",
    "bars_lung_cancer_smoking = plt.barh(y_labels_smoking, proportions_smoking_men, color=sns.color_palette(\"pastel\", 2), height=bar_width)\n",
    "#create horizontal bar chart for cancer patients who smoke/ do not smoke using labels above and sns pastel color palette\n",
    "bars_no_cancer_smoking = plt.barh(y_labels_smoking, non_cancer_smoking_men, color='lightgrey', left=proportions_smoking_men, height=bar_width)\n",
    "\n",
    "plt.title('Men: Proportion of Lung Cancer Cases by Smoking Status', fontsize=16)\n",
    "plt.xlabel('Proportion', fontsize=14)\n",
    "plt.xlim(0, 1) \n",
    "plt.ylim(-0.5, 1.5)\n",
    "\n",
    "#to annotate the % of cancer patients for smoker and non-smoker group\n",
    "for index, value in enumerate(proportions_smoking_men):\n",
    "    plt.text(value - 0.4, index, f\"{value*100:.2f}%\", va='center', fontsize=12, color='black') \n",
    "\n",
    "plt.show()\n",
    "\n",
    "#YELLOW FINGERS\n",
    "contingency_yellowfingers_men = pd.crosstab(final_df_men['YELLOW_FINGERS'], final_df_men['LUNG_CANCER'])\n",
    "contingency_yellowfingers_men['Proportion_Cancer'] = contingency_yellowfingers_men[1] / (contingency_yellowfingers_men[0] + contingency_yellowfingers_men[1])\n",
    "\n",
    "proportions_yellowfingers_men = contingency_yellowfingers_men['Proportion_Cancer']\n",
    "non_cancer_yellowfingers_men = 1 - proportions_yellowfingers_men\n",
    "\n",
    "plt.figure(figsize=(8, 4))\n",
    "sns.set_theme(style=\"whitegrid\") \n",
    "y_labels_yellowfingers = ['No Yellow Fingers', 'Yellow Fingers']\n",
    "bar_width = 0.3 \n",
    "#create horizontal bar chart for cancer patients with or without yellow fingers using labels above and sns pastel color palette\n",
    "bars_lung_cancer_yellowfingers = plt.barh(y_labels_yellowfingers, proportions_yellowfingers_men, color=['#FFCC99','#FF9999'], height=bar_width, label='Lung Cancer')\n",
    "#create horizontal bar chart for non-cancer patients with or without yellow fingers using labels above and sns pastel color palette\n",
    "bars_no_cancer_yellowfingers = plt.barh(y_labels_yellowfingers, non_cancer_yellowfingers_men, color='lightgrey', left=proportions_yellowfingers_men, height=bar_width, label='No Lung Cancer')\n",
    "\n",
    "plt.title('Men: Proportion of Lung Cancer Cases by Presence Of Yellow Fingers', fontsize=16)\n",
    "plt.xlabel('Proportion', fontsize=14)\n",
    "plt.xlim(0, 1) \n",
    "plt.ylim(-0.5, 1.5)\n",
    "\n",
    "#annotate % of cancer patients for yellow finger and non-yellow finger group\n",
    "for index, value in enumerate(proportions_yellowfingers_men):\n",
    "    plt.text(value - 0.4, index, f\"{value*100:.2f}%\", va='center', fontsize=12, color='black') \n",
    "\n",
    "plt.show()\n",
    "\n",
    "#ALCOHOL CONSUMING\n",
    "contingency_alcohol_men = pd.crosstab(final_df_men['ALCOHOL CONSUMING'], final_df_men['LUNG_CANCER'])\n",
    "contingency_alcohol_men['Proportion_Cancer'] = contingency_alcohol_men[1] / (contingency_alcohol_men[0] + contingency_alcohol_men[1])\n",
    "\n",
    "proportions_alcohol_men = contingency_alcohol_men['Proportion_Cancer']\n",
    "non_cancer_alcohol_men = 1 - proportions_alcohol_men\n",
    "\n",
    "plt.figure(figsize=(8, 4))\n",
    "sns.set_theme(style=\"whitegrid\") \n",
    "y_labels_alcohol = ['Non-Alcohol Consuming', 'Alcohol Consuming']\n",
    "bar_width = 0.3 \n",
    "#create horizontal bar chart for cancer patients who drink/do not drink using labels above and sns pastel color palette\n",
    "bars_lung_cancer_alcohol = plt.barh(y_labels_alcohol, proportions_alcohol_men, color=['#58d68d', '#d2b4de'], height=bar_width, label='Lung Cancer')\n",
    "#create horizontal bar chart for non-cancer patient who drink/do not drink using labels above and sns pastel color palette\n",
    "bars_no_cancer_alcohol = plt.barh(y_labels_alcohol, non_cancer_alcohol_men, color='lightgrey', left=proportions_alcohol_men, height=bar_width, label='No Lung Cancer')\n",
    "\n",
    "plt.title('Men: Proportion of Lung Cancer Cases by Drinking Status', fontsize=16)\n",
    "plt.xlabel('Proportion', fontsize=14)\n",
    "plt.xlim(0, 1) \n",
    "plt.ylim(-0.5, 1.5)\n",
    "\n",
    "#annotate % of cancer patients for drinkers and non-drinkers group\n",
    "for index, value in enumerate(proportions_alcohol_men):\n",
    "    plt.text(value - 0.4, index, f\"{value*100:.2f}%\", va='center', fontsize=12, color='black') \n",
    "\n",
    "plt.show()\n"
   ]
  },
  {
   "cell_type": "markdown",
   "id": "678808c5",
   "metadata": {},
   "source": [
    "Analyses for Women"
   ]
  },
  {
   "cell_type": "code",
   "execution_count": 12,
   "id": "941897db",
   "metadata": {},
   "outputs": [
    {
     "data": {
      "text/plain": [
       "<Figure size 800x400 with 0 Axes>"
      ]
     },
     "execution_count": 12,
     "metadata": {},
     "output_type": "execute_result"
    },
    {
     "data": {
      "text/plain": [
       "Text(0.5, 1.0, 'Women: Proportion of Lung Cancer Cases by Smoking Status')"
      ]
     },
     "execution_count": 12,
     "metadata": {},
     "output_type": "execute_result"
    },
    {
     "data": {
      "text/plain": [
       "Text(0.5, 0, 'Proportion')"
      ]
     },
     "execution_count": 12,
     "metadata": {},
     "output_type": "execute_result"
    },
    {
     "data": {
      "text/plain": [
       "(0.0, 1.0)"
      ]
     },
     "execution_count": 12,
     "metadata": {},
     "output_type": "execute_result"
    },
    {
     "data": {
      "text/plain": [
       "(-0.5, 1.5)"
      ]
     },
     "execution_count": 12,
     "metadata": {},
     "output_type": "execute_result"
    },
    {
     "data": {
      "text/plain": [
       "Text(0.4480243161094225, 0, '84.80%')"
      ]
     },
     "execution_count": 12,
     "metadata": {},
     "output_type": "execute_result"
    },
    {
     "data": {
      "text/plain": [
       "Text(0.480400181900864, 1, '88.04%')"
      ]
     },
     "execution_count": 12,
     "metadata": {},
     "output_type": "execute_result"
    },
    {
     "data": {
      "image/png": "[encoded data removed]",
      "text/plain": [
       "<Figure size 800x400 with 1 Axes>"
      ]
     },
     "metadata": {},
     "output_type": "display_data"
    },
    {
     "data": {
      "text/plain": [
       "<Figure size 800x400 with 0 Axes>"
      ]
     },
     "execution_count": 12,
     "metadata": {},
     "output_type": "execute_result"
    },
    {
     "data": {
      "text/plain": [
       "Text(0.5, 1.0, 'Women: Proportion of Lung Cancer Cases by Presence Of Yellow Fingers')"
      ]
     },
     "execution_count": 12,
     "metadata": {},
     "output_type": "execute_result"
    },
    {
     "data": {
      "text/plain": [
       "Text(0.5, 0, 'Proportion')"
      ]
     },
     "execution_count": 12,
     "metadata": {},
     "output_type": "execute_result"
    },
    {
     "data": {
      "text/plain": [
       "(0.0, 1.0)"
      ]
     },
     "execution_count": 12,
     "metadata": {},
     "output_type": "execute_result"
    },
    {
     "data": {
      "text/plain": [
       "(-0.5, 1.5)"
      ]
     },
     "execution_count": 12,
     "metadata": {},
     "output_type": "execute_result"
    },
    {
     "data": {
      "text/plain": [
       "Text(0.4261327713382508, 0, '82.61%')"
      ]
     },
     "execution_count": 12,
     "metadata": {},
     "output_type": "execute_result"
    },
    {
     "data": {
      "text/plain": [
       "Text(0.4975824175824176, 1, '89.76%')"
      ]
     },
     "execution_count": 12,
     "metadata": {},
     "output_type": "execute_result"
    },
    {
     "data": {
      "image/png": "[encoded data removed]",
      "text/plain": [
       "<Figure size 800x400 with 1 Axes>"
      ]
     },
     "metadata": {},
     "output_type": "display_data"
    },
    {
     "data": {
      "text/plain": [
       "<Figure size 800x400 with 0 Axes>"
      ]
     },
     "execution_count": 12,
     "metadata": {},
     "output_type": "execute_result"
    },
    {
     "data": {
      "text/plain": [
       "Text(0.5, 1.0, 'Women: Proportion of Lung Cancer Cases by Drinking Status')"
      ]
     },
     "execution_count": 12,
     "metadata": {},
     "output_type": "execute_result"
    },
    {
     "data": {
      "text/plain": [
       "Text(0.5, 0, 'Proportion')"
      ]
     },
     "execution_count": 12,
     "metadata": {},
     "output_type": "execute_result"
    },
    {
     "data": {
      "text/plain": [
       "(0.0, 1.0)"
      ]
     },
     "execution_count": 12,
     "metadata": {},
     "output_type": "execute_result"
    },
    {
     "data": {
      "text/plain": [
       "(-0.5, 1.5)"
      ]
     },
     "execution_count": 12,
     "metadata": {},
     "output_type": "execute_result"
    },
    {
     "data": {
      "text/plain": [
       "Text(0.4277027027027027, 0, '82.77%')"
      ]
     },
     "execution_count": 12,
     "metadata": {},
     "output_type": "execute_result"
    },
    {
     "data": {
      "text/plain": [
       "Text(0.5019514516896716, 1, '90.20%')"
      ]
     },
     "execution_count": 12,
     "metadata": {},
     "output_type": "execute_result"
    },
    {
     "data": {
      "image/png": "[encoded data removed]",
      "text/plain": [
       "<Figure size 800x400 with 1 Axes>"
      ]
     },
     "metadata": {},
     "output_type": "display_data"
    }
   ],
   "source": [
    "#SMOKING\n",
    "contingency_smoking_women = pd.crosstab(final_df_women['SMOKING'], final_df_women['LUNG_CANCER'])\n",
    "contingency_smoking_women['Proportion_Cancer'] = contingency_smoking_women[1] / (contingency_smoking_women[0] + contingency_smoking_women[1])\n",
    "\n",
    "\n",
    "proportions_smoking_women = contingency_smoking_women['Proportion_Cancer']\n",
    "non_cancer_smoking_women = 1 - proportions_smoking_women\n",
    "\n",
    "\n",
    "plt.figure(figsize=(8, 4))\n",
    "sns.set_theme(style=\"whitegrid\")\n",
    "y_labels_smoking = ['Non-Smoker', 'Smoker']\n",
    "bar_width = 0.3 #change the width for a better fit figure\n",
    "#create horizontal bar chart for cancer patients who smoke/do not smoke using labels above and sns pastel color palette\n",
    "bars_lung_cancer_smoking = plt.barh(y_labels_smoking, proportions_smoking_women, color=sns.color_palette(\"pastel\", 2), height=bar_width)\n",
    "#create horizontal bar chart for cancer patients who smoke/ do not smoke using labels above and sns pastel color palette\n",
    "bars_no_cancer_smoking = plt.barh(y_labels_smoking, non_cancer_smoking_women, color='lightgrey', left=proportions_smoking_women, height=bar_width)\n",
    "\n",
    "plt.title('Women: Proportion of Lung Cancer Cases by Smoking Status', fontsize=16)\n",
    "plt.xlabel('Proportion', fontsize=14)\n",
    "plt.xlim(0, 1) \n",
    "plt.ylim(-0.5, 1.5)\n",
    "\n",
    "#to annotate the % of cancer patients for smoker and non-smoker group\n",
    "for index, value in enumerate(proportions_smoking_women):\n",
    "    plt.text(value - 0.4, index, f\"{value*100:.2f}%\", va='center', fontsize=12, color='black') \n",
    "\n",
    "plt.show()\n",
    "\n",
    "#YELLOW FINGERS\n",
    "contingency_yellowfingers_women = pd.crosstab(final_df_women['YELLOW_FINGERS'], final_df_women['LUNG_CANCER'])\n",
    "contingency_yellowfingers_women['Proportion_Cancer'] = contingency_yellowfingers_women[1] / (contingency_yellowfingers_women[0] + contingency_yellowfingers_women[1])\n",
    "\n",
    "proportions_yellowfingers_women = contingency_yellowfingers_women['Proportion_Cancer']\n",
    "non_cancer_yellowfingers_women = 1 - proportions_yellowfingers_women\n",
    "\n",
    "plt.figure(figsize=(8, 4))\n",
    "sns.set_theme(style=\"whitegrid\") \n",
    "y_labels_yellowfingers = ['No Yellow Fingers', 'Yellow Fingers']\n",
    "bar_width = 0.3 \n",
    "#create horizontal bar chart for cancer patients with or without yellow fingers using labels above and sns pastel color palette\n",
    "bars_lung_cancer_yellowfingers = plt.barh(y_labels_yellowfingers, proportions_yellowfingers_women, color=['#FFCC99','#FF9999'], height=bar_width, label='Lung Cancer')\n",
    "#create horizontal bar chart for non-cancer patients with or without yellow fingers using labels above and sns pastel color palette\n",
    "bars_no_cancer_yellowfingers = plt.barh(y_labels_yellowfingers, non_cancer_yellowfingers_women, color='lightgrey', left=proportions_yellowfingers_women, height=bar_width, label='No Lung Cancer')\n",
    "\n",
    "plt.title('Women: Proportion of Lung Cancer Cases by Presence Of Yellow Fingers', fontsize=16)\n",
    "plt.xlabel('Proportion', fontsize=14)\n",
    "plt.xlim(0, 1) \n",
    "plt.ylim(-0.5, 1.5)\n",
    "\n",
    "#annotate % of cancer patients for yellow finger and non-yellow finger group\n",
    "for index, value in enumerate(proportions_yellowfingers_women):\n",
    "    plt.text(value - 0.4, index, f\"{value*100:.2f}%\", va='center', fontsize=12, color='black') \n",
    "\n",
    "plt.show()\n",
    "\n",
    "#ALCOHOL CONSUMING\n",
    "contingency_alcohol_women = pd.crosstab(final_df_women['ALCOHOL CONSUMING'], final_df_women['LUNG_CANCER'])\n",
    "contingency_alcohol_women['Proportion_Cancer'] = contingency_alcohol_women[1] / (contingency_alcohol_women[0] + contingency_alcohol_women[1])\n",
    "\n",
    "proportions_alcohol_women = contingency_alcohol_women['Proportion_Cancer']\n",
    "non_cancer_alcohol_women = 1 - proportions_alcohol_women\n",
    "\n",
    "plt.figure(figsize=(8, 4))\n",
    "sns.set_theme(style=\"whitegrid\") \n",
    "y_labels_alcohol = ['Non-Alcohol Consuming', 'Alcohol Consuming']\n",
    "bar_width = 0.3 \n",
    "#create horizontal bar chart for cancer patients who drink/do not drink using labels above and sns pastel color palette\n",
    "bars_lung_cancer_alcohol = plt.barh(y_labels_alcohol, proportions_alcohol_women, color=['#58d68d', '#d2b4de'], height=bar_width, label='Lung Cancer')\n",
    "#create horizontal bar chart for non-cancer patient who drink/do not drink using labels above and sns pastel color palette\n",
    "bars_no_cancer_alcohol = plt.barh(y_labels_alcohol, non_cancer_alcohol_women, color='lightgrey', left=proportions_alcohol_women, height=bar_width, label='No Lung Cancer')\n",
    "\n",
    "plt.title('Women: Proportion of Lung Cancer Cases by Drinking Status', fontsize=16)\n",
    "plt.xlabel('Proportion', fontsize=14)\n",
    "plt.xlim(0, 1) \n",
    "plt.ylim(-0.5, 1.5)\n",
    "\n",
    "#annotate % of cancer patients for drinkers and non-drinkers group\n",
    "for index, value in enumerate(proportions_alcohol_women):\n",
    "    plt.text(value - 0.4, index, f\"{value*100:.2f}%\", va='center', fontsize=12, color='black') \n",
    "\n",
    "plt.show()"
   ]
  }
 ],
 "metadata": {
  "kernelspec": {
   "display_name": "Python 3 (ipykernel)",
   "language": "python",
   "name": "python3"
  },
  "language_info": {
   "codemirror_mode": {
    "name": "ipython",
    "version": 3
   },
   "file_extension": ".py",
   "mimetype": "text/x-python",
   "name": "python",
   "nbconvert_exporter": "python",
   "pygments_lexer": "ipython3",
   "version": "3.12.4"
  }
 },
 "nbformat": 4,
 "nbformat_minor": 5
}
